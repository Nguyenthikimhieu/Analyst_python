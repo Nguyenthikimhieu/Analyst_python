{
 "cells": [
  {
   "cell_type": "code",
   "execution_count": 2,
   "id": "e3a82e60-e49b-4989-84ab-c8d51215a9ad",
   "metadata": {
    "tags": []
   },
   "outputs": [],
   "source": [
    "#Importing libraries \n",
    "import pandas as pd\n",
    "import numpy as np\n",
    "import matplotlib.pyplot as plt \n",
    "import plotly.express as px\n",
    "import seaborn as sns\n",
    "sns.set()\n",
    "%matplotlib inline\n",
    "from datetime import date\n",
    "import scipy.stats as stats"
   ]
  },
  {
   "cell_type": "code",
   "execution_count": 1,
   "id": "b0dc8fb8-1e62-47a6-a0b0-c710acf651b6",
   "metadata": {
    "tags": []
   },
   "outputs": [
    {
     "ename": "NameError",
     "evalue": "name 'pd' is not defined",
     "output_type": "error",
     "traceback": [
      "\u001b[1;31m---------------------------------------------------------------------------\u001b[0m",
      "\u001b[1;31mNameError\u001b[0m                                 Traceback (most recent call last)",
      "Cell \u001b[1;32mIn[1], line 1\u001b[0m\n\u001b[1;32m----> 1\u001b[0m df \u001b[38;5;241m=\u001b[39m pd\u001b[38;5;241m.\u001b[39mread_csv(\u001b[38;5;124m'\u001b[39m\u001b[38;5;124mD:/SALES/MY/SuperStore_Orders.csv\u001b[39m\u001b[38;5;124m'\u001b[39m, encoding\u001b[38;5;241m=\u001b[39m\u001b[38;5;124m'\u001b[39m\u001b[38;5;124mlatin-1\u001b[39m\u001b[38;5;124m'\u001b[39m) \n\u001b[0;32m      2\u001b[0m df\u001b[38;5;241m.\u001b[39mhead(\u001b[38;5;241m1\u001b[39m)\n",
      "\u001b[1;31mNameError\u001b[0m: name 'pd' is not defined"
     ]
    }
   ],
   "source": [
    "df = pd.read_csv('D:/SALES/MY/SuperStore_Orders.csv', encoding='latin-1') \n",
    "df.head(1)"
   ]
  },
  {
   "cell_type": "code",
   "execution_count": 101,
   "id": "7735c8b9-9861-41f3-b542-636c3181746e",
   "metadata": {
    "tags": []
   },
   "outputs": [
    {
     "name": "stdout",
     "output_type": "stream",
     "text": [
      "<class 'pandas.core.frame.DataFrame'>\n",
      "RangeIndex: 51290 entries, 0 to 51289\n",
      "Data columns (total 21 columns):\n",
      " #   Column          Non-Null Count  Dtype  \n",
      "---  ------          --------------  -----  \n",
      " 0   order_id        51290 non-null  object \n",
      " 1   order_date      51290 non-null  object \n",
      " 2   ship_date       51290 non-null  object \n",
      " 3   ship_mode       51290 non-null  object \n",
      " 4   customer_name   51290 non-null  object \n",
      " 5   segment         51290 non-null  object \n",
      " 6   state           51290 non-null  object \n",
      " 7   country         51290 non-null  object \n",
      " 8   market          51290 non-null  object \n",
      " 9   region          51290 non-null  object \n",
      " 10  product_id      51290 non-null  object \n",
      " 11  category        51290 non-null  object \n",
      " 12  sub_category    51290 non-null  object \n",
      " 13  product_name    51290 non-null  object \n",
      " 14  sales           51290 non-null  object \n",
      " 15  quantity        51290 non-null  int64  \n",
      " 16  discount        51290 non-null  float64\n",
      " 17  profit          51290 non-null  float64\n",
      " 18  shipping_cost   51290 non-null  float64\n",
      " 19  order_priority  51290 non-null  object \n",
      " 20  year            51290 non-null  int64  \n",
      "dtypes: float64(3), int64(2), object(16)\n",
      "memory usage: 8.2+ MB\n"
     ]
    }
   ],
   "source": [
    "df.info()"
   ]
  },
  {
   "cell_type": "code",
   "execution_count": 102,
   "id": "d0256c04-0531-4165-8911-162e4ac7cf2e",
   "metadata": {
    "tags": []
   },
   "outputs": [
    {
     "name": "stdout",
     "output_type": "stream",
     "text": [
      "0\n"
     ]
    }
   ],
   "source": [
    "# Kiểm tra giá trị trùng\n",
    "df[df.duplicated()]\n",
    "check_duplicate = df.duplicated().sum()\n",
    "print(check_duplicate)"
   ]
  },
  {
   "cell_type": "code",
   "execution_count": 103,
   "id": "70922089-a063-4e9d-a6a6-820ea6629141",
   "metadata": {
    "tags": []
   },
   "outputs": [
    {
     "name": "stdout",
     "output_type": "stream",
     "text": [
      "order_id          0\n",
      "order_date        0\n",
      "ship_date         0\n",
      "ship_mode         0\n",
      "customer_name     0\n",
      "segment           0\n",
      "state             0\n",
      "country           0\n",
      "market            0\n",
      "region            0\n",
      "product_id        0\n",
      "category          0\n",
      "sub_category      0\n",
      "product_name      0\n",
      "sales             0\n",
      "quantity          0\n",
      "discount          0\n",
      "profit            0\n",
      "shipping_cost     0\n",
      "order_priority    0\n",
      "year              0\n",
      "dtype: int64\n"
     ]
    }
   ],
   "source": [
    "# Kiểm tra giá trị bị null\n",
    "check_null_values = df.isnull().sum()\n",
    "print(check_null_values)"
   ]
  },
  {
   "cell_type": "code",
   "execution_count": 104,
   "id": "13bb80aa-c295-42c3-bafb-90427057fb03",
   "metadata": {
    "tags": []
   },
   "outputs": [
    {
     "data": {
      "text/html": [
       "<div>\n",
       "<style scoped>\n",
       "    .dataframe tbody tr th:only-of-type {\n",
       "        vertical-align: middle;\n",
       "    }\n",
       "\n",
       "    .dataframe tbody tr th {\n",
       "        vertical-align: top;\n",
       "    }\n",
       "\n",
       "    .dataframe thead th {\n",
       "        text-align: right;\n",
       "    }\n",
       "</style>\n",
       "<table border=\"1\" class=\"dataframe\">\n",
       "  <thead>\n",
       "    <tr style=\"text-align: right;\">\n",
       "      <th></th>\n",
       "      <th>quantity</th>\n",
       "      <th>discount</th>\n",
       "      <th>profit</th>\n",
       "      <th>shipping_cost</th>\n",
       "      <th>year</th>\n",
       "    </tr>\n",
       "  </thead>\n",
       "  <tbody>\n",
       "    <tr>\n",
       "      <th>count</th>\n",
       "      <td>51290.000000</td>\n",
       "      <td>51290.000000</td>\n",
       "      <td>51290.000000</td>\n",
       "      <td>51290.000000</td>\n",
       "      <td>51290.000000</td>\n",
       "    </tr>\n",
       "    <tr>\n",
       "      <th>mean</th>\n",
       "      <td>3.476545</td>\n",
       "      <td>0.142908</td>\n",
       "      <td>28.641740</td>\n",
       "      <td>26.375915</td>\n",
       "      <td>2012.777208</td>\n",
       "    </tr>\n",
       "    <tr>\n",
       "      <th>std</th>\n",
       "      <td>2.278766</td>\n",
       "      <td>0.212280</td>\n",
       "      <td>174.424113</td>\n",
       "      <td>57.296804</td>\n",
       "      <td>1.098931</td>\n",
       "    </tr>\n",
       "    <tr>\n",
       "      <th>min</th>\n",
       "      <td>1.000000</td>\n",
       "      <td>0.000000</td>\n",
       "      <td>-6599.978000</td>\n",
       "      <td>0.000000</td>\n",
       "      <td>2011.000000</td>\n",
       "    </tr>\n",
       "    <tr>\n",
       "      <th>25%</th>\n",
       "      <td>2.000000</td>\n",
       "      <td>0.000000</td>\n",
       "      <td>0.000000</td>\n",
       "      <td>2.610000</td>\n",
       "      <td>2012.000000</td>\n",
       "    </tr>\n",
       "    <tr>\n",
       "      <th>50%</th>\n",
       "      <td>3.000000</td>\n",
       "      <td>0.000000</td>\n",
       "      <td>9.240000</td>\n",
       "      <td>7.790000</td>\n",
       "      <td>2013.000000</td>\n",
       "    </tr>\n",
       "    <tr>\n",
       "      <th>75%</th>\n",
       "      <td>5.000000</td>\n",
       "      <td>0.200000</td>\n",
       "      <td>36.810000</td>\n",
       "      <td>24.450000</td>\n",
       "      <td>2014.000000</td>\n",
       "    </tr>\n",
       "    <tr>\n",
       "      <th>max</th>\n",
       "      <td>14.000000</td>\n",
       "      <td>0.850000</td>\n",
       "      <td>8399.976000</td>\n",
       "      <td>933.570000</td>\n",
       "      <td>2014.000000</td>\n",
       "    </tr>\n",
       "  </tbody>\n",
       "</table>\n",
       "</div>"
      ],
      "text/plain": [
       "           quantity      discount        profit  shipping_cost          year\n",
       "count  51290.000000  51290.000000  51290.000000   51290.000000  51290.000000\n",
       "mean       3.476545      0.142908     28.641740      26.375915   2012.777208\n",
       "std        2.278766      0.212280    174.424113      57.296804      1.098931\n",
       "min        1.000000      0.000000  -6599.978000       0.000000   2011.000000\n",
       "25%        2.000000      0.000000      0.000000       2.610000   2012.000000\n",
       "50%        3.000000      0.000000      9.240000       7.790000   2013.000000\n",
       "75%        5.000000      0.200000     36.810000      24.450000   2014.000000\n",
       "max       14.000000      0.850000   8399.976000     933.570000   2014.000000"
      ]
     },
     "execution_count": 104,
     "metadata": {},
     "output_type": "execute_result"
    }
   ],
   "source": [
    "df.describe()"
   ]
  },
  {
   "cell_type": "markdown",
   "id": "b2b48930-14c4-4676-b9e0-d330560ff133",
   "metadata": {},
   "source": [
    "Khoảng dữ liệu của các phân vị 25%, 50%, 75% khá nhỏ nên ta có thể thấy dữ liệu tập trung chặt chẽ xung quanh một khoảng giá trị nhất định. Và sự chênh lệch lớn giữa giá trị tối đa và Q3 (hoặc giá trị 75%) trong các cột này cho thấy có giá trị outlier trong dữ liệu. Nhưng ta cần kiểm chứng thêm bằng các phương pháp khác như box plot."
   ]
  },
  {
   "cell_type": "code",
   "execution_count": 105,
   "id": "3892ce49-9d2b-48b9-8e94-f178374cf554",
   "metadata": {
    "tags": []
   },
   "outputs": [
    {
     "data": {
      "text/plain": [
       "order_id          25035\n",
       "order_date         1430\n",
       "ship_date          1464\n",
       "ship_mode             4\n",
       "customer_name       795\n",
       "segment               3\n",
       "state              1094\n",
       "country             147\n",
       "market                7\n",
       "region               13\n",
       "product_id        10292\n",
       "category              3\n",
       "sub_category         17\n",
       "product_name       3788\n",
       "sales              2246\n",
       "quantity             14\n",
       "discount             27\n",
       "profit            24575\n",
       "shipping_cost     10037\n",
       "order_priority        4\n",
       "year                  4\n",
       "dtype: int64"
      ]
     },
     "execution_count": 105,
     "metadata": {},
     "output_type": "execute_result"
    }
   ],
   "source": [
    "df.nunique()"
   ]
  },
  {
   "cell_type": "markdown",
   "id": "5af509c3-6d9f-4096-8b7f-4850730c2117",
   "metadata": {},
   "source": [
    "Kiểm tra outliers các cột dữ liệu và loại bỏ outliers"
   ]
  },
  {
   "cell_type": "code",
   "execution_count": 106,
   "id": "fd20d6a9-7c7c-4a99-9e63-8b60017638d3",
   "metadata": {
    "tags": []
   },
   "outputs": [
    {
     "data": {
      "text/plain": [
       "<Axes: >"
      ]
     },
     "execution_count": 106,
     "metadata": {},
     "output_type": "execute_result"
    },
    {
     "data": {
      "image/png": "[encoded data removed]",
      "text/plain": [
       "<Figure size 640x480 with 1 Axes>"
      ]
     },
     "metadata": {},
     "output_type": "display_data"
    }
   ],
   "source": [
    "check_outliners = df[['quantity', 'discount', 'profit', 'shipping_cost']]\n",
    "sns.boxplot(data=check_outliners)"
   ]
  },
  {
   "cell_type": "code",
   "execution_count": 107,
   "id": "b5a6ee5a-958b-4a5a-999d-664d8eacbbd3",
   "metadata": {
    "tags": []
   },
   "outputs": [
    {
     "data": {
      "text/html": [
       "<div>\n",
       "<style scoped>\n",
       "    .dataframe tbody tr th:only-of-type {\n",
       "        vertical-align: middle;\n",
       "    }\n",
       "\n",
       "    .dataframe tbody tr th {\n",
       "        vertical-align: top;\n",
       "    }\n",
       "\n",
       "    .dataframe thead th {\n",
       "        text-align: right;\n",
       "    }\n",
       "</style>\n",
       "<table border=\"1\" class=\"dataframe\">\n",
       "  <thead>\n",
       "    <tr style=\"text-align: right;\">\n",
       "      <th></th>\n",
       "      <th>order_id</th>\n",
       "      <th>order_date</th>\n",
       "      <th>ship_date</th>\n",
       "      <th>ship_mode</th>\n",
       "      <th>customer_name</th>\n",
       "      <th>segment</th>\n",
       "      <th>state</th>\n",
       "      <th>country</th>\n",
       "      <th>market</th>\n",
       "      <th>region</th>\n",
       "      <th>...</th>\n",
       "      <th>category</th>\n",
       "      <th>sub_category</th>\n",
       "      <th>product_name</th>\n",
       "      <th>sales</th>\n",
       "      <th>quantity</th>\n",
       "      <th>discount</th>\n",
       "      <th>profit</th>\n",
       "      <th>shipping_cost</th>\n",
       "      <th>order_priority</th>\n",
       "      <th>year</th>\n",
       "    </tr>\n",
       "  </thead>\n",
       "  <tbody>\n",
       "    <tr>\n",
       "      <th>0</th>\n",
       "      <td>AG-2011-2040</td>\n",
       "      <td>01-01-2011</td>\n",
       "      <td>06-01-2011</td>\n",
       "      <td>Standard Class</td>\n",
       "      <td>Toby Braunhardt</td>\n",
       "      <td>Consumer</td>\n",
       "      <td>Constantine</td>\n",
       "      <td>Algeria</td>\n",
       "      <td>Africa</td>\n",
       "      <td>Africa</td>\n",
       "      <td>...</td>\n",
       "      <td>Office Supplies</td>\n",
       "      <td>Storage</td>\n",
       "      <td>Tenex Lockers, Blue</td>\n",
       "      <td>408</td>\n",
       "      <td>2</td>\n",
       "      <td>0.0</td>\n",
       "      <td>106.1400</td>\n",
       "      <td>35.46</td>\n",
       "      <td>Medium</td>\n",
       "      <td>2011</td>\n",
       "    </tr>\n",
       "    <tr>\n",
       "      <th>1</th>\n",
       "      <td>IN-2011-47883</td>\n",
       "      <td>01-01-2011</td>\n",
       "      <td>08-01-2011</td>\n",
       "      <td>Standard Class</td>\n",
       "      <td>Joseph Holt</td>\n",
       "      <td>Consumer</td>\n",
       "      <td>New South Wales</td>\n",
       "      <td>Australia</td>\n",
       "      <td>APAC</td>\n",
       "      <td>Oceania</td>\n",
       "      <td>...</td>\n",
       "      <td>Office Supplies</td>\n",
       "      <td>Supplies</td>\n",
       "      <td>Acme Trimmer, High Speed</td>\n",
       "      <td>120</td>\n",
       "      <td>3</td>\n",
       "      <td>0.1</td>\n",
       "      <td>36.0360</td>\n",
       "      <td>9.72</td>\n",
       "      <td>Medium</td>\n",
       "      <td>2011</td>\n",
       "    </tr>\n",
       "    <tr>\n",
       "      <th>2</th>\n",
       "      <td>HU-2011-1220</td>\n",
       "      <td>01-01-2011</td>\n",
       "      <td>05-01-2011</td>\n",
       "      <td>Second Class</td>\n",
       "      <td>Annie Thurman</td>\n",
       "      <td>Consumer</td>\n",
       "      <td>Budapest</td>\n",
       "      <td>Hungary</td>\n",
       "      <td>EMEA</td>\n",
       "      <td>EMEA</td>\n",
       "      <td>...</td>\n",
       "      <td>Office Supplies</td>\n",
       "      <td>Storage</td>\n",
       "      <td>Tenex Box, Single Width</td>\n",
       "      <td>66</td>\n",
       "      <td>4</td>\n",
       "      <td>0.0</td>\n",
       "      <td>29.6400</td>\n",
       "      <td>8.17</td>\n",
       "      <td>High</td>\n",
       "      <td>2011</td>\n",
       "    </tr>\n",
       "    <tr>\n",
       "      <th>3</th>\n",
       "      <td>IT-2011-3647632</td>\n",
       "      <td>01-01-2011</td>\n",
       "      <td>05-01-2011</td>\n",
       "      <td>Second Class</td>\n",
       "      <td>Eugene Moren</td>\n",
       "      <td>Home Office</td>\n",
       "      <td>Stockholm</td>\n",
       "      <td>Sweden</td>\n",
       "      <td>EU</td>\n",
       "      <td>North</td>\n",
       "      <td>...</td>\n",
       "      <td>Office Supplies</td>\n",
       "      <td>Paper</td>\n",
       "      <td>Enermax Note Cards, Premium</td>\n",
       "      <td>45</td>\n",
       "      <td>3</td>\n",
       "      <td>0.5</td>\n",
       "      <td>-26.0550</td>\n",
       "      <td>4.82</td>\n",
       "      <td>High</td>\n",
       "      <td>2011</td>\n",
       "    </tr>\n",
       "    <tr>\n",
       "      <th>4</th>\n",
       "      <td>IN-2011-47883</td>\n",
       "      <td>01-01-2011</td>\n",
       "      <td>08-01-2011</td>\n",
       "      <td>Standard Class</td>\n",
       "      <td>Joseph Holt</td>\n",
       "      <td>Consumer</td>\n",
       "      <td>New South Wales</td>\n",
       "      <td>Australia</td>\n",
       "      <td>APAC</td>\n",
       "      <td>Oceania</td>\n",
       "      <td>...</td>\n",
       "      <td>Furniture</td>\n",
       "      <td>Furnishings</td>\n",
       "      <td>Eldon Light Bulb, Duo Pack</td>\n",
       "      <td>114</td>\n",
       "      <td>5</td>\n",
       "      <td>0.1</td>\n",
       "      <td>37.7700</td>\n",
       "      <td>4.70</td>\n",
       "      <td>Medium</td>\n",
       "      <td>2011</td>\n",
       "    </tr>\n",
       "    <tr>\n",
       "      <th>...</th>\n",
       "      <td>...</td>\n",
       "      <td>...</td>\n",
       "      <td>...</td>\n",
       "      <td>...</td>\n",
       "      <td>...</td>\n",
       "      <td>...</td>\n",
       "      <td>...</td>\n",
       "      <td>...</td>\n",
       "      <td>...</td>\n",
       "      <td>...</td>\n",
       "      <td>...</td>\n",
       "      <td>...</td>\n",
       "      <td>...</td>\n",
       "      <td>...</td>\n",
       "      <td>...</td>\n",
       "      <td>...</td>\n",
       "      <td>...</td>\n",
       "      <td>...</td>\n",
       "      <td>...</td>\n",
       "      <td>...</td>\n",
       "      <td>...</td>\n",
       "    </tr>\n",
       "    <tr>\n",
       "      <th>51283</th>\n",
       "      <td>IN-2014-23754</td>\n",
       "      <td>31-12-2014</td>\n",
       "      <td>07-01-2015</td>\n",
       "      <td>Standard Class</td>\n",
       "      <td>Kalyca Meade</td>\n",
       "      <td>Corporate</td>\n",
       "      <td>Guangdong</td>\n",
       "      <td>China</td>\n",
       "      <td>APAC</td>\n",
       "      <td>North Asia</td>\n",
       "      <td>...</td>\n",
       "      <td>Office Supplies</td>\n",
       "      <td>Paper</td>\n",
       "      <td>Eaton Note Cards, 8.5 x 11</td>\n",
       "      <td>79</td>\n",
       "      <td>3</td>\n",
       "      <td>0.0</td>\n",
       "      <td>25.3800</td>\n",
       "      <td>1.41</td>\n",
       "      <td>Medium</td>\n",
       "      <td>2014</td>\n",
       "    </tr>\n",
       "    <tr>\n",
       "      <th>51284</th>\n",
       "      <td>MX-2014-108574</td>\n",
       "      <td>31-12-2014</td>\n",
       "      <td>04-01-2015</td>\n",
       "      <td>Standard Class</td>\n",
       "      <td>Julia Barnett</td>\n",
       "      <td>Home Office</td>\n",
       "      <td>Tamaulipas</td>\n",
       "      <td>Mexico</td>\n",
       "      <td>LATAM</td>\n",
       "      <td>North</td>\n",
       "      <td>...</td>\n",
       "      <td>Office Supplies</td>\n",
       "      <td>Labels</td>\n",
       "      <td>Novimex Legal Exhibit Labels, Adjustable</td>\n",
       "      <td>17</td>\n",
       "      <td>3</td>\n",
       "      <td>0.0</td>\n",
       "      <td>0.6600</td>\n",
       "      <td>1.32</td>\n",
       "      <td>Medium</td>\n",
       "      <td>2014</td>\n",
       "    </tr>\n",
       "    <tr>\n",
       "      <th>51285</th>\n",
       "      <td>CA-2014-115427</td>\n",
       "      <td>31-12-2014</td>\n",
       "      <td>04-01-2015</td>\n",
       "      <td>Standard Class</td>\n",
       "      <td>Erica Bern</td>\n",
       "      <td>Corporate</td>\n",
       "      <td>California</td>\n",
       "      <td>United States</td>\n",
       "      <td>US</td>\n",
       "      <td>West</td>\n",
       "      <td>...</td>\n",
       "      <td>Office Supplies</td>\n",
       "      <td>Binders</td>\n",
       "      <td>Cardinal Slant-D Ring Binder, Heavy Gauge Vinyl</td>\n",
       "      <td>14</td>\n",
       "      <td>2</td>\n",
       "      <td>0.2</td>\n",
       "      <td>4.5188</td>\n",
       "      <td>0.89</td>\n",
       "      <td>Medium</td>\n",
       "      <td>2014</td>\n",
       "    </tr>\n",
       "    <tr>\n",
       "      <th>51286</th>\n",
       "      <td>MO-2014-2560</td>\n",
       "      <td>31-12-2014</td>\n",
       "      <td>05-01-2015</td>\n",
       "      <td>Standard Class</td>\n",
       "      <td>Liz Preis</td>\n",
       "      <td>Consumer</td>\n",
       "      <td>Souss-Massa-Draâ</td>\n",
       "      <td>Morocco</td>\n",
       "      <td>Africa</td>\n",
       "      <td>Africa</td>\n",
       "      <td>...</td>\n",
       "      <td>Office Supplies</td>\n",
       "      <td>Binders</td>\n",
       "      <td>Wilson Jones Hole Reinforcements, Clear</td>\n",
       "      <td>4</td>\n",
       "      <td>1</td>\n",
       "      <td>0.0</td>\n",
       "      <td>0.4200</td>\n",
       "      <td>0.49</td>\n",
       "      <td>Medium</td>\n",
       "      <td>2014</td>\n",
       "    </tr>\n",
       "    <tr>\n",
       "      <th>51287</th>\n",
       "      <td>MX-2014-110527</td>\n",
       "      <td>31-12-2014</td>\n",
       "      <td>02-01-2015</td>\n",
       "      <td>Second Class</td>\n",
       "      <td>Charlotte Melton</td>\n",
       "      <td>Consumer</td>\n",
       "      <td>Managua</td>\n",
       "      <td>Nicaragua</td>\n",
       "      <td>LATAM</td>\n",
       "      <td>Central</td>\n",
       "      <td>...</td>\n",
       "      <td>Office Supplies</td>\n",
       "      <td>Labels</td>\n",
       "      <td>Hon Color Coded Labels, 5000 Label Set</td>\n",
       "      <td>26</td>\n",
       "      <td>3</td>\n",
       "      <td>0.0</td>\n",
       "      <td>12.3600</td>\n",
       "      <td>0.35</td>\n",
       "      <td>Medium</td>\n",
       "      <td>2014</td>\n",
       "    </tr>\n",
       "  </tbody>\n",
       "</table>\n",
       "<p>48551 rows × 21 columns</p>\n",
       "</div>"
      ],
      "text/plain": [
       "              order_id  order_date   ship_date       ship_mode  \\\n",
       "0         AG-2011-2040  01-01-2011  06-01-2011  Standard Class   \n",
       "1        IN-2011-47883  01-01-2011  08-01-2011  Standard Class   \n",
       "2         HU-2011-1220  01-01-2011  05-01-2011    Second Class   \n",
       "3      IT-2011-3647632  01-01-2011  05-01-2011    Second Class   \n",
       "4        IN-2011-47883  01-01-2011  08-01-2011  Standard Class   \n",
       "...                ...         ...         ...             ...   \n",
       "51283    IN-2014-23754  31-12-2014  07-01-2015  Standard Class   \n",
       "51284   MX-2014-108574  31-12-2014  04-01-2015  Standard Class   \n",
       "51285   CA-2014-115427  31-12-2014  04-01-2015  Standard Class   \n",
       "51286     MO-2014-2560  31-12-2014  05-01-2015  Standard Class   \n",
       "51287   MX-2014-110527  31-12-2014  02-01-2015    Second Class   \n",
       "\n",
       "          customer_name      segment             state        country  market  \\\n",
       "0       Toby Braunhardt     Consumer       Constantine        Algeria  Africa   \n",
       "1           Joseph Holt     Consumer   New South Wales      Australia    APAC   \n",
       "2         Annie Thurman     Consumer          Budapest        Hungary    EMEA   \n",
       "3          Eugene Moren  Home Office         Stockholm         Sweden      EU   \n",
       "4           Joseph Holt     Consumer   New South Wales      Australia    APAC   \n",
       "...                 ...          ...               ...            ...     ...   \n",
       "51283      Kalyca Meade    Corporate         Guangdong          China    APAC   \n",
       "51284     Julia Barnett  Home Office        Tamaulipas         Mexico   LATAM   \n",
       "51285        Erica Bern    Corporate        California  United States      US   \n",
       "51286         Liz Preis     Consumer  Souss-Massa-Draâ        Morocco  Africa   \n",
       "51287  Charlotte Melton     Consumer           Managua      Nicaragua   LATAM   \n",
       "\n",
       "           region  ...         category sub_category  \\\n",
       "0          Africa  ...  Office Supplies      Storage   \n",
       "1         Oceania  ...  Office Supplies     Supplies   \n",
       "2            EMEA  ...  Office Supplies      Storage   \n",
       "3           North  ...  Office Supplies        Paper   \n",
       "4         Oceania  ...        Furniture  Furnishings   \n",
       "...           ...  ...              ...          ...   \n",
       "51283  North Asia  ...  Office Supplies        Paper   \n",
       "51284       North  ...  Office Supplies       Labels   \n",
       "51285        West  ...  Office Supplies      Binders   \n",
       "51286      Africa  ...  Office Supplies      Binders   \n",
       "51287     Central  ...  Office Supplies       Labels   \n",
       "\n",
       "                                          product_name sales quantity  \\\n",
       "0                                  Tenex Lockers, Blue   408        2   \n",
       "1                             Acme Trimmer, High Speed   120        3   \n",
       "2                              Tenex Box, Single Width    66        4   \n",
       "3                          Enermax Note Cards, Premium    45        3   \n",
       "4                           Eldon Light Bulb, Duo Pack   114        5   \n",
       "...                                                ...   ...      ...   \n",
       "51283                       Eaton Note Cards, 8.5 x 11    79        3   \n",
       "51284         Novimex Legal Exhibit Labels, Adjustable    17        3   \n",
       "51285  Cardinal Slant-D Ring Binder, Heavy Gauge Vinyl    14        2   \n",
       "51286          Wilson Jones Hole Reinforcements, Clear     4        1   \n",
       "51287           Hon Color Coded Labels, 5000 Label Set    26        3   \n",
       "\n",
       "       discount    profit  shipping_cost  order_priority  year  \n",
       "0           0.0  106.1400          35.46          Medium  2011  \n",
       "1           0.1   36.0360           9.72          Medium  2011  \n",
       "2           0.0   29.6400           8.17            High  2011  \n",
       "3           0.5  -26.0550           4.82            High  2011  \n",
       "4           0.1   37.7700           4.70          Medium  2011  \n",
       "...         ...       ...            ...             ...   ...  \n",
       "51283       0.0   25.3800           1.41          Medium  2014  \n",
       "51284       0.0    0.6600           1.32          Medium  2014  \n",
       "51285       0.2    4.5188           0.89          Medium  2014  \n",
       "51286       0.0    0.4200           0.49          Medium  2014  \n",
       "51287       0.0   12.3600           0.35          Medium  2014  \n",
       "\n",
       "[48551 rows x 21 columns]"
      ]
     },
     "execution_count": 107,
     "metadata": {},
     "output_type": "execute_result"
    }
   ],
   "source": [
    "# Hàm để loại bỏ outliers dựa trên percentiles\n",
    "def remove_outliers(df, col_name, lower_percentile, upper_percentile):\n",
    "    lower_limit = df[col_name].quantile(lower_percentile)\n",
    "    upper_limit = df[col_name].quantile(upper_percentile)\n",
    "    return df[(df[col_name] >= lower_limit) & (df[col_name] <= upper_limit)]\n",
    "\n",
    "# Thiết lập percentiles bạn muốn sử dụng (ví dụ: loại bỏ 1% outliers dưới và 99% outliers trên)\n",
    "lower_percentile = 0.01\n",
    "upper_percentile = 0.99\n",
    "\n",
    "# Loại bỏ outliers cho từng cột\n",
    "columns_to_remove_outliers = ['quantity', 'discount', 'profit', 'shipping_cost']\n",
    "for col in columns_to_remove_outliers:\n",
    "    df = remove_outliers(df, col, lower_percentile, upper_percentile)\n",
    "\n",
    "# Kết quả sau khi loại bỏ outliers\n",
    "df"
   ]
  },
  {
   "cell_type": "code",
   "execution_count": 108,
   "id": "9d5e708b-3307-42a7-9eec-046e5770117c",
   "metadata": {
    "tags": []
   },
   "outputs": [
    {
     "name": "stdout",
     "output_type": "stream",
     "text": [
      "order_id           object\n",
      "order_date         object\n",
      "ship_date          object\n",
      "ship_mode          object\n",
      "customer_name      object\n",
      "segment            object\n",
      "state              object\n",
      "country            object\n",
      "market             object\n",
      "region             object\n",
      "product_id         object\n",
      "category           object\n",
      "sub_category       object\n",
      "product_name       object\n",
      "sales             float64\n",
      "quantity            int64\n",
      "discount          float64\n",
      "profit            float64\n",
      "shipping_cost     float64\n",
      "order_priority     object\n",
      "year                int64\n",
      "dtype: object\n"
     ]
    }
   ],
   "source": [
    "# Chuyển cột 'sales' thành kiểu dữ liệu float\n",
    "df['sales'] = df['sales'].str.replace(',', '', regex=False).astype(float)\n",
    "print(df.dtypes)"
   ]
  },
  {
   "cell_type": "code",
   "execution_count": 109,
   "id": "6c491b92-b287-48fc-b18c-fc0a7b68344f",
   "metadata": {
    "tags": []
   },
   "outputs": [
    {
     "name": "stderr",
     "output_type": "stream",
     "text": [
      "C:\\Users\\ngoch\\AppData\\Local\\Temp\\ipykernel_8708\\77709251.py:1: UserWarning: Parsing dates in DD/MM/YYYY format when dayfirst=False (the default) was specified. This may lead to inconsistently parsed dates! Specify a format to ensure consistent parsing.\n",
      "  df['order_date'] = df['order_date'].astype('datetime64[ns]')\n",
      "C:\\Users\\ngoch\\AppData\\Local\\Temp\\ipykernel_8708\\77709251.py:2: UserWarning: Parsing dates in DD/MM/YYYY format when dayfirst=False (the default) was specified. This may lead to inconsistently parsed dates! Specify a format to ensure consistent parsing.\n",
      "  df['ship_date'] = df['ship_date'].astype('datetime64[ns]')\n"
     ]
    }
   ],
   "source": [
    "df['order_date'] = df['order_date'].astype('datetime64[ns]')\n",
    "df['ship_date'] = df['ship_date'].astype('datetime64[ns]')"
   ]
  },
  {
   "cell_type": "markdown",
   "id": "b7e0cc03-a151-4120-85f2-29186ffdcbad",
   "metadata": {
    "tags": []
   },
   "source": [
    "# 1. TIME ANALYST"
   ]
  },
  {
   "cell_type": "markdown",
   "id": "7864e04b-b366-4f41-a5c7-df4b17a3ee36",
   "metadata": {
    "tags": []
   },
   "source": [
    "### 1.1 Xu hướng của doanh thu theo năm ###"
   ]
  },
  {
   "cell_type": "code",
   "execution_count": 76,
   "id": "cc40119f-7dfc-491a-8d56-971dbb5383d4",
   "metadata": {
    "tags": []
   },
   "outputs": [
    {
     "data": {
      "text/html": [
       "<div>\n",
       "<style scoped>\n",
       "    .dataframe tbody tr th:only-of-type {\n",
       "        vertical-align: middle;\n",
       "    }\n",
       "\n",
       "    .dataframe tbody tr th {\n",
       "        vertical-align: top;\n",
       "    }\n",
       "\n",
       "    .dataframe thead th {\n",
       "        text-align: right;\n",
       "    }\n",
       "</style>\n",
       "<table border=\"1\" class=\"dataframe\">\n",
       "  <thead>\n",
       "    <tr style=\"text-align: right;\">\n",
       "      <th></th>\n",
       "      <th>year</th>\n",
       "      <th>sales</th>\n",
       "    </tr>\n",
       "  </thead>\n",
       "  <tbody>\n",
       "    <tr>\n",
       "      <th>0</th>\n",
       "      <td>2011</td>\n",
       "      <td>1675056.0</td>\n",
       "    </tr>\n",
       "    <tr>\n",
       "      <th>1</th>\n",
       "      <td>2012</td>\n",
       "      <td>2062396.0</td>\n",
       "    </tr>\n",
       "    <tr>\n",
       "      <th>2</th>\n",
       "      <td>2013</td>\n",
       "      <td>2576606.0</td>\n",
       "    </tr>\n",
       "    <tr>\n",
       "      <th>3</th>\n",
       "      <td>2014</td>\n",
       "      <td>3216172.0</td>\n",
       "    </tr>\n",
       "  </tbody>\n",
       "</table>\n",
       "</div>"
      ],
      "text/plain": [
       "   year      sales\n",
       "0  2011  1675056.0\n",
       "1  2012  2062396.0\n",
       "2  2013  2576606.0\n",
       "3  2014  3216172.0"
      ]
     },
     "execution_count": 76,
     "metadata": {},
     "output_type": "execute_result"
    }
   ],
   "source": [
    "yearly_sales = df.groupby('year')['sales'].sum().reset_index()\n",
    "yearly_sales"
   ]
  },
  {
   "cell_type": "code",
   "execution_count": 75,
   "id": "29483bf2-e75c-4ed4-84be-98cb01d5e5d4",
   "metadata": {},
   "outputs": [
    {
     "name": "stdout",
     "output_type": "stream",
     "text": [
      "   year      sales  percentage  growth_percentage\n",
      "0  2011  1675056.0   17.576239           0.000000\n",
      "1  2012  2062396.0   21.640569           4.064330\n",
      "2  2013  2576606.0   27.036137           5.395568\n",
      "3  2014  3216172.0   33.747055           6.710919\n"
     ]
    }
   ],
   "source": [
    "yearly_sales = df.groupby('year')['sales'].sum().reset_index()\n",
    "total_sales = yearly_sales['sales'].sum()\n",
    "yearly_sales['percentage'] = (yearly_sales['sales'] / total_sales) * 100\n",
    "\n",
    "yearly_sales['growth_percentage'] = yearly_sales['sales'].pct_change() * 100\n",
    "yearly_sales['growth_percentage'] = yearly_sales['percentage'].diff().fillna(0)\n",
    "\n",
    "print(yearly_sales)"
   ]
  },
  {
   "cell_type": "code",
   "execution_count": 18,
   "id": "6d5f8a66-cd3c-48b9-b31a-a46eafd4d669",
   "metadata": {
    "tags": []
   },
   "outputs": [
    {
     "data": {
      "image/png": "[encoded data removed]",
      "text/plain": [
       "<Figure size 1000x600 with 1 Axes>"
      ]
     },
     "metadata": {},
     "output_type": "display_data"
    }
   ],
   "source": [
    "sns.set()\n",
    "plt.figure(figsize=(10, 6))\n",
    "\n",
    "ax = sns.barplot(x='year', y='sales', data=yearly_sales)\n",
    "\n",
    "# Thêm cột 'growth_percentage'\n",
    "for index, row in yearly_sales.iterrows():\n",
    "    ax.text(index, row['sales'], f'{row[\"growth_percentage\"]:.1f}%', \n",
    "            ha='center', va='bottom', fontsize=12)\n",
    "\n",
    "plt.xlabel('Year')\n",
    "plt.ylabel('Total Sales')\n",
    "plt.title('Yearly Sales Trend (in Millions)')\n",
    "\n",
    "plt.show()"
   ]
  },
  {
   "cell_type": "markdown",
   "id": "da0ab259-e2aa-47af-a525-d95ffe70d808",
   "metadata": {},
   "source": [
    "##### Kết luận  : Xu hướng của dữ liệu tăng tức tổng doanh thu tăng qua các năm #####"
   ]
  },
  {
   "cell_type": "markdown",
   "id": "04466b72-c6eb-4227-be8d-456d323339a1",
   "metadata": {},
   "source": [
    "### 1.2 Tháng nào có doanh số cao nhất? So sánh với nhau với năm còn lại ###"
   ]
  },
  {
   "cell_type": "code",
   "execution_count": 77,
   "id": "3ea1cb0a-6cef-4f34-9e83-dff960aac29c",
   "metadata": {
    "tags": []
   },
   "outputs": [
    {
     "name": "stdout",
     "output_type": "stream",
     "text": [
      "    year  month     sales\n",
      "0   2011      1  113522.0\n",
      "1   2011      2  103848.0\n",
      "2   2011      3  109272.0\n",
      "3   2011      4  106303.0\n",
      "4   2011      5  109625.0\n",
      "5   2011      6  139571.0\n",
      "6   2011      7  127569.0\n",
      "7   2011      8  153147.0\n",
      "8   2011      9  180252.0\n",
      "9   2011     10  147244.0\n",
      "10  2011     11  167660.0\n",
      "11  2011     12  217043.0\n",
      "12  2012      1  132352.0\n",
      "13  2012      2  106603.0\n",
      "14  2012      3  147380.0\n",
      "15  2012      4  141339.0\n",
      "16  2012      5  166791.0\n",
      "17  2012      6  187830.0\n",
      "18  2012      7  138097.0\n",
      "19  2012      8  199593.0\n",
      "20  2012      9  215490.0\n",
      "21  2012     10  190021.0\n",
      "22  2012     11  219530.0\n",
      "23  2012     12  217370.0\n",
      "24  2013      1  151113.0\n",
      "25  2013      2  125455.0\n",
      "26  2013      3  164617.0\n",
      "27  2013      4  171057.0\n",
      "28  2013      5  217904.0\n",
      "29  2013      6  263002.0\n",
      "30  2013      7  179352.0\n",
      "31  2013      8  251100.0\n",
      "32  2013      9  273007.0\n",
      "33  2013     10  215332.0\n",
      "34  2013     11  290873.0\n",
      "35  2013     12  273794.0\n",
      "36  2014      1  187619.0\n",
      "37  2014      2  199690.0\n",
      "38  2014      3  250335.0\n",
      "39  2014      4  230989.0\n",
      "40  2014      5  235600.0\n",
      "41  2014      6  277406.0\n",
      "42  2014      7  213501.0\n",
      "43  2014      8  318572.0\n",
      "44  2014      9  296436.0\n",
      "45  2014     10  308832.0\n",
      "46  2014     11  378996.0\n",
      "47  2014     12  318196.0\n"
     ]
    }
   ],
   "source": [
    "df['order_date'] = df['order_date'].astype('datetime64[ns]')\n",
    "df['ship_date'] = df['ship_date'].astype('datetime64[ns]')\n",
    "df['year'] = df['order_date'].dt.year \n",
    "df['month'] = df['order_date'].dt.month\n",
    "monthly_sales = df.groupby(['year', 'month'])['sales'].sum().reset_index()\n",
    "print(monthly_sales)"
   ]
  },
  {
   "cell_type": "code",
   "execution_count": 21,
   "id": "aae54ffc-84f8-40cf-a32b-7aeff24ae6b1",
   "metadata": {
    "tags": []
   },
   "outputs": [
    {
     "data": {
      "image/png": "[encoded data removed]",
      "text/plain": [
       "<Figure size 640x480 with 1 Axes>"
      ]
     },
     "metadata": {},
     "output_type": "display_data"
    }
   ],
   "source": [
    "sns.set()\n",
    "sns.barplot(data=monthly_sales, x='month', y='sales', hue='year')\n",
    "plt.xlabel('Month')\n",
    "plt.ylabel('Sales')\n",
    "plt.title('Monthly Sales Comparison by Year')\n",
    "plt.legend(title='Year')\n",
    "plt.show()"
   ]
  },
  {
   "cell_type": "markdown",
   "id": "b7b1cafc-0288-49b2-a45b-10245a446f47",
   "metadata": {
    "jp-MarkdownHeadingCollapsed": true,
    "tags": []
   },
   "source": [
    "##### Kết luận: #####\n",
    "##### Những tháng có doanh thu cao tập trung ở những tháng cuối của năm (tháng 7, 8, 9, 10, 11, 12). Điều này có thể chỉ ra một số xu hướng quan trọng:  #####\n",
    "##### 1. Mùa lễ hội và mua sắm cuối năm: Tháng 11 và 12 thường chứa các ngày lễ và sự kiện mua sắm quan trọng như Black Friday, Cyber Monday và Giáng sinh. Điều này thúc đẩy sự tiêu dùng và tạo ra doanh thu cao hơn. #####\n",
    "##### 2. Kết thúc năm tài chính: Một số doanh nghiệp và tổ chức có thể kết thúc năm tài chính của họ vào tháng 12, điều này có thể dẫn đến việc tăng cường công việc kế toán và ghi nhận doanh thu vào cuối năm. #####\n",
    "##### 3. Thời tiết và mùa vụ: Tháng 7, 8, và 9 thường là mùa hè hoặc mùa thu ở một số quốc gia, điều này có thể ảnh hưởng đến hoạt động kinh doanh trong ngành như du lịch hoặc thực phẩm. #####\n",
    "##### Có thể điều chỉnh chiến lược ra mắt sản phẩm mới hay chiến lược quảng cáo hiệu quả vào khoảng thời gian này để tối ưu hóa doanh thu và lợi nhuận. #####"
   ]
  },
  {
   "cell_type": "markdown",
   "id": "a7d1cd48-237a-4d02-954e-57d008c7beae",
   "metadata": {},
   "source": [
    "### 1.3 Sử dụng cột order_date và ship_date để tính toán thời gian giao hàng của mỗi đơn hàng và xem xét thời gian giao hàng dựa trên các phương thức vận chuyển khác nhau để xác định phương thức nào giao hàng nhanh nhất. ###"
   ]
  },
  {
   "cell_type": "code",
   "execution_count": 22,
   "id": "77efb8e3-147c-4b47-bc21-962c459ae2e7",
   "metadata": {
    "tags": []
   },
   "outputs": [
    {
     "name": "stdout",
     "output_type": "stream",
     "text": [
      "0        151\n",
      "1        212\n",
      "2        120\n",
      "3        120\n",
      "4        212\n",
      "        ... \n",
      "51283    182\n",
      "51284     91\n",
      "51285     91\n",
      "51286    121\n",
      "51287     32\n",
      "Name: delivery_time, Length: 48551, dtype: int64\n"
     ]
    }
   ],
   "source": [
    "#Chuyển đổi cột order_date và ship_date thành kiểu datetime\n",
    "df['order_date'] = df['order_date'].astype('datetime64[ns]')\n",
    "df['ship_date'] = df['ship_date'].astype('datetime64[ns]')\n",
    "#Trừ hai cột ngày\n",
    "df['delivery_time'] = df['ship_date'] - df['order_date']\n",
    "df['delivery_time'] = df['delivery_time'].dt.days           #chuyển dữ liệu từ timedelta thành int\n",
    "print(df['delivery_time'] )"
   ]
  },
  {
   "cell_type": "code",
   "execution_count": 23,
   "id": "5d7d2784-f57e-4df2-9bae-48b2d55fc324",
   "metadata": {
    "tags": []
   },
   "outputs": [],
   "source": [
    "delivery_time_by_ship_mode = df.groupby('ship_mode')['delivery_time'].mean()"
   ]
  },
  {
   "cell_type": "code",
   "execution_count": 24,
   "id": "8e326625-a3d8-423b-ab69-e3a8de0893ea",
   "metadata": {
    "tags": []
   },
   "outputs": [
    {
     "data": {
      "image/png": "[encoded data removed]",
      "text/plain": [
       "<Figure size 640x480 with 1 Axes>"
      ]
     },
     "metadata": {},
     "output_type": "display_data"
    }
   ],
   "source": [
    "delivery_time_by_ship_mode.plot(kind='bar')\n",
    "plt.title('Delivery_time by ship_mode')\n",
    "plt.xlabel('Ship_mode')\n",
    "plt.ylabel('dilivery_time(days)')\n",
    "plt.show()"
   ]
  },
  {
   "cell_type": "code",
   "execution_count": 25,
   "id": "88a4fed8-2d89-492e-9763-4d640e457788",
   "metadata": {
    "tags": []
   },
   "outputs": [
    {
     "data": {
      "text/plain": [
       "ship_mode\n",
       "First Class        7000\n",
       "Same Day           2518\n",
       "Second Class       9733\n",
       "Standard Class    29300\n",
       "Name: order_id, dtype: int64"
      ]
     },
     "execution_count": 25,
     "metadata": {},
     "output_type": "execute_result"
    }
   ],
   "source": [
    "order_count_by_ship_mode = df.groupby('ship_mode')['order_id'].count()\n",
    "order_count_by_ship_mode "
   ]
  },
  {
   "cell_type": "code",
   "execution_count": 26,
   "id": "b196550e-d8a2-49d2-a7c5-c7e3546d9ea3",
   "metadata": {
    "tags": []
   },
   "outputs": [
    {
     "data": {
      "image/png": "[encoded data removed]",
      "text/plain": [
       "<Figure size 640x480 with 1 Axes>"
      ]
     },
     "metadata": {},
     "output_type": "display_data"
    }
   ],
   "source": [
    "order_count_by_ship_mode.plot(kind='bar')\n",
    "plt.title('Order_count by ship_mode')\n",
    "plt.xlabel('Ship_mode')\n",
    "plt.ylabel('order_id')\n",
    "plt.show()"
   ]
  },
  {
   "cell_type": "markdown",
   "id": "abb052c2-98e9-4c2f-8941-ae8ce12e838d",
   "metadata": {
    "tags": []
   },
   "source": [
    "Mặc dù thời gian giao hàng của phương thức 'Standard Class' dài hơn, số lượng đơn hàng giao hàng bằng phương thức này là lớn nhất. Điều này cho thấy rằng khách hàng có thể ưa chuộng phương thức này vì lý do nào đó, có thể liên quan đến giá cước, sự tin cậy hoặc các yếu tố khác "
   ]
  },
  {
   "cell_type": "markdown",
   "id": "44fab2d2-5df5-4320-9405-3951871349cc",
   "metadata": {
    "tags": []
   },
   "source": [
    "#### Xem xét giá cước có ảnh hưởng đến sự lựa chọn phương thức giao hàng của khách hàng ####"
   ]
  },
  {
   "cell_type": "markdown",
   "id": "9b88982b-45a8-4887-8d1b-69717a715d3d",
   "metadata": {},
   "source": [
    "shipping_cost là biến phụ thuộc và ship_mode là biến độc lập"
   ]
  },
  {
   "cell_type": "markdown",
   "id": "c51ca084-d5ac-44de-9307-34b605679723",
   "metadata": {
    "tags": []
   },
   "source": [
    "Lập giả thuyết:"
   ]
  },
  {
   "cell_type": "markdown",
   "id": "b269cf4c-1724-4dec-84ca-1fe3f53e49bc",
   "metadata": {},
   "source": [
    "H0: Giá cước không có ảnh hưởng đến sự lựa chọn phương thức giao hàng của khách hàng"
   ]
  },
  {
   "cell_type": "markdown",
   "id": "92b45dde-6e84-4098-90e6-f466b46554a1",
   "metadata": {},
   "source": [
    "H1: Giá cước có ảnh hưởng đến sự lựa chọn phương thức giao hàng của khách hàng"
   ]
  },
  {
   "cell_type": "code",
   "execution_count": 27,
   "id": "69ba29e3-4fa3-4920-b9b2-bc8489ffdedf",
   "metadata": {
    "tags": []
   },
   "outputs": [
    {
     "data": {
      "text/plain": [
       "ship_mode\n",
       "First Class       28.031109\n",
       "Same Day          28.163987\n",
       "Second Class      22.210677\n",
       "Standard Class    16.400314\n",
       "Name: shipping_cost, dtype: float64"
      ]
     },
     "execution_count": 27,
     "metadata": {},
     "output_type": "execute_result"
    }
   ],
   "source": [
    "#Giá cước trung bình của từng phương thức giao hàng\n",
    "shipping_cost_by_ship_mode = df.groupby('ship_mode')['shipping_cost'].mean()\n",
    "shipping_cost_by_ship_mode"
   ]
  },
  {
   "cell_type": "code",
   "execution_count": 32,
   "id": "2e27e9f0-02d9-45f1-a5c0-6fba74863abf",
   "metadata": {
    "tags": []
   },
   "outputs": [
    {
     "data": {
      "image/png": "[encoded data removed]",
      "text/plain": [
       "<Figure size 1200x600 with 1 Axes>"
      ]
     },
     "metadata": {},
     "output_type": "display_data"
    }
   ],
   "source": [
    "plt.figure(figsize=(12, 6))\n",
    "sns.boxplot(x='ship_mode', y='shipping_cost', data=df)\n",
    "plt.title('Shipping_cost by ship_mode')\n",
    "plt.xlabel('Ship_mode')\n",
    "plt.ylabel('Shipping_cost')\n",
    "plt.xticks(rotation=45)\n",
    "plt.show()"
   ]
  },
  {
   "cell_type": "markdown",
   "id": "130fda92-c5e7-4077-8449-bb3a8ee8b093",
   "metadata": {},
   "source": [
    "Các biểu đồ boxplot có hình dáng tương tự nhau và gần với phân phối chuẩn nên dữ liệu cột ship_mode và cột shipping_cost có thể gần với phân phối chuẩn."
   ]
  },
  {
   "cell_type": "code",
   "execution_count": 44,
   "id": "97f72ce5-0a03-4515-a04d-b3ea522e48b4",
   "metadata": {
    "tags": []
   },
   "outputs": [
    {
     "name": "stdout",
     "output_type": "stream",
     "text": [
      "                 sum_sq       df           F         PR(>F)\n",
      "ship_mode  1.045484e+06      3.0  357.304636  1.520641e-229\n",
      "Residual   4.734997e+07  48547.0         NaN            NaN\n"
     ]
    }
   ],
   "source": [
    "import statsmodels.api as sm\n",
    "from statsmodels.formula.api import ols\n",
    "model = ols('shipping_cost ~ ship_mode', data=df).fit()\n",
    "anova_table = sm.stats.anova_lm(model, typ=2)\n",
    "print(anova_table)"
   ]
  },
  {
   "cell_type": "code",
   "execution_count": 49,
   "id": "5b8c6547-bcbe-4692-a4db-67414abfe286",
   "metadata": {
    "tags": []
   },
   "outputs": [
    {
     "name": "stdout",
     "output_type": "stream",
     "text": [
      "Giá cước có ảnh hưởng đáng kể đến sự lựa chọn phương thức giao hàng.\n"
     ]
    }
   ],
   "source": [
    "p_value = anova_table['PR(>F)']['ship_mode']\n",
    "alpha = 0.05\n",
    "if p_value < alpha:\n",
    "    print(\"Giá cước có ảnh hưởng đáng kể đến sự lựa chọn phương thức giao hàng.\")\n",
    "else:\n",
    "    print(\"Giá cước không có ảnh hưởng đáng kể đến sự lựa chọn phương thức giao hàng.\")"
   ]
  },
  {
   "cell_type": "markdown",
   "id": "7bb45226-a2ee-4594-8877-c3607ceae962",
   "metadata": {
    "tags": []
   },
   "source": [
    "#### Dự đoán thời gian giao hàng dự kiến bằng mô hình hồi quy tuyến tính ####"
   ]
  },
  {
   "cell_type": "code",
   "execution_count": 146,
   "id": "3de44c0f-646d-4036-a91f-439d14f223a4",
   "metadata": {
    "tags": []
   },
   "outputs": [
    {
     "name": "stdout",
     "output_type": "stream",
     "text": [
      "Mean Absolute Error: 60.25870740552979\n"
     ]
    }
   ],
   "source": [
    "from sklearn.model_selection import train_test_split\n",
    "from sklearn.linear_model import LinearRegression\n",
    "from sklearn.metrics import mean_absolute_error\n",
    "\n",
    "# Tiền xử lý dữ liệu (chỉ sử dụng một số cột liên quan)\n",
    "df = df[['ship_date', 'ship_mode', 'sales', 'shipping_cost', 'delivery_time']]\n",
    "\n",
    "# Tách biến phụ thuộc(y) và biến độc lập(x)\n",
    "X = df[['ship_mode', 'sales', 'shipping_cost']]\n",
    "y = df['delivery_time']\n",
    "\n",
    "# Tạo biến giả cho biến hạng mục 'ship_mode'\n",
    "X = pd.get_dummies(X, columns=['ship_mode'], drop_first=True)\n",
    "\n",
    "# Tách tập huấn luyện và tập kiểm tra\n",
    "X_train, X_test, y_train, y_test = train_test_split(X, y, test_size=0.2, random_state=42)\n",
    "\n",
    "# Huấn luyện mô hình hồi quy tuyến tính\n",
    "model = LinearRegression()\n",
    "model.fit(X_train, y_train)\n",
    "\n",
    "# Dự đoán thời gian giao hàng trên tập kiểm tra\n",
    "y_pred = model.predict(X_test)\n",
    "\n",
    "# Đánh giá mô hình\n",
    "mae = mean_absolute_error(y_test, y_pred)\n",
    "print('Mean Absolute Error:', mae)\n"
   ]
  },
  {
   "cell_type": "markdown",
   "id": "e7b4baf3-8df3-4e39-8161-cc63e52117cd",
   "metadata": {},
   "source": [
    "Dựa trên phân tích dữ liệu, có thể dự đoán rằng thời gian giao hàng trung bình dự kiến của các đơn hàng trong tương lai là khoảng 61 ngày. Điều này giúp lập kế hoạch và quản lý dự án hoặc cung cấp thông tin dự đoán cho khách hàng."
   ]
  },
  {
   "cell_type": "markdown",
   "id": "35c0ff08-af93-4ae6-8e80-ea44cd58f8c9",
   "metadata": {},
   "source": [
    "### 1.4 Phân tích lợi nhuận: Xem xét sự biến đổi của lợi nhuận theo thời gian và xem có mối quan hệ giữa lợi nhuận và doanh số bán hàng. ###"
   ]
  },
  {
   "cell_type": "markdown",
   "id": "77d477a5-e2e7-4f22-8d26-703b1fa3a1b8",
   "metadata": {
    "tags": []
   },
   "source": [
    "#### Phân tích lợi nhuận theo thời gian ####"
   ]
  },
  {
   "cell_type": "code",
   "execution_count": 78,
   "id": "97fcd0c2-655a-4897-a392-be7ada33eb7a",
   "metadata": {
    "tags": []
   },
   "outputs": [
    {
     "data": {
      "text/html": [
       "<div>\n",
       "<style scoped>\n",
       "    .dataframe tbody tr th:only-of-type {\n",
       "        vertical-align: middle;\n",
       "    }\n",
       "\n",
       "    .dataframe tbody tr th {\n",
       "        vertical-align: top;\n",
       "    }\n",
       "\n",
       "    .dataframe thead th {\n",
       "        text-align: right;\n",
       "    }\n",
       "</style>\n",
       "<table border=\"1\" class=\"dataframe\">\n",
       "  <thead>\n",
       "    <tr style=\"text-align: right;\">\n",
       "      <th></th>\n",
       "      <th>year</th>\n",
       "      <th>profit</th>\n",
       "    </tr>\n",
       "  </thead>\n",
       "  <tbody>\n",
       "    <tr>\n",
       "      <th>0</th>\n",
       "      <td>2011</td>\n",
       "      <td>200571.87772</td>\n",
       "    </tr>\n",
       "    <tr>\n",
       "      <th>1</th>\n",
       "      <td>2012</td>\n",
       "      <td>268752.45642</td>\n",
       "    </tr>\n",
       "    <tr>\n",
       "      <th>2</th>\n",
       "      <td>2013</td>\n",
       "      <td>327552.07598</td>\n",
       "    </tr>\n",
       "    <tr>\n",
       "      <th>3</th>\n",
       "      <td>2014</td>\n",
       "      <td>407600.46634</td>\n",
       "    </tr>\n",
       "  </tbody>\n",
       "</table>\n",
       "</div>"
      ],
      "text/plain": [
       "   year        profit\n",
       "0  2011  200571.87772\n",
       "1  2012  268752.45642\n",
       "2  2013  327552.07598\n",
       "3  2014  407600.46634"
      ]
     },
     "execution_count": 78,
     "metadata": {},
     "output_type": "execute_result"
    }
   ],
   "source": [
    "yearly_profit = df.groupby('year')['profit'].sum().reset_index()\n",
    "yearly_profit"
   ]
  },
  {
   "cell_type": "code",
   "execution_count": 79,
   "id": "f161684c-ef5e-4e29-b7a4-61946b466675",
   "metadata": {
    "tags": []
   },
   "outputs": [
    {
     "name": "stdout",
     "output_type": "stream",
     "text": [
      "   year        profit  percentage  growth_percentage\n",
      "0  2011  200571.87772   16.652198           0.000000\n",
      "1  2012  268752.45642   22.312795           5.660597\n",
      "2  2013  327552.07598   27.194551           4.881756\n",
      "3  2014  407600.46634   33.840456           6.645905\n"
     ]
    }
   ],
   "source": [
    "yearly_profit = df.groupby('year')['profit'].sum().reset_index()\n",
    "total_profit = yearly_profit['profit'].sum()\n",
    "yearly_profit['percentage'] = (yearly_profit['profit'] / total_profit) * 100\n",
    "\n",
    "yearly_profit['growth_percentage'] = yearly_profit['profit'].pct_change() * 100\n",
    "yearly_profit['growth_percentage'] = yearly_profit['percentage'].diff().fillna(0)\n",
    "\n",
    "print(yearly_profit)"
   ]
  },
  {
   "cell_type": "code",
   "execution_count": 55,
   "id": "91194cae-efe8-48af-a9fd-a70ae554f0e8",
   "metadata": {
    "tags": []
   },
   "outputs": [
    {
     "data": {
      "image/png": "[encoded data removed]",
      "text/plain": [
       "<Figure size 1000x600 with 1 Axes>"
      ]
     },
     "metadata": {},
     "output_type": "display_data"
    }
   ],
   "source": [
    "sns.set()\n",
    "plt.figure(figsize=(10, 6))\n",
    "\n",
    "ax = sns.barplot(x='year', y='profit', data=yearly_profit)\n",
    "\n",
    "# Thêm cột 'growth_percentage'\n",
    "for index, row in yearly_profit.iterrows():\n",
    "    ax.text(index, row['profit'], f'{row[\"growth_percentage\"]:.1f}%', \n",
    "            ha='center', va='bottom', fontsize=12)\n",
    "\n",
    "plt.xlabel('Year')\n",
    "plt.ylabel('Total Profits')\n",
    "plt.title('Yearly Profits Trend (in Millions)')\n",
    "\n",
    "plt.show()"
   ]
  },
  {
   "cell_type": "markdown",
   "id": "de383564-4808-42f5-8ecd-5c18d8f76072",
   "metadata": {},
   "source": [
    "Lợi nhuận tăng dần qua các năm "
   ]
  },
  {
   "cell_type": "markdown",
   "id": "5b43215b-cb15-4667-9a04-05d22d2b805b",
   "metadata": {},
   "source": [
    "#### Mối quan hệ giữa lợi nhuận và doanh số bán hàng theo tháng và theo năm ####"
   ]
  },
  {
   "cell_type": "code",
   "execution_count": 80,
   "id": "6c6968a0-3e67-4250-ba5d-b3a72be3652c",
   "metadata": {
    "tags": []
   },
   "outputs": [
    {
     "data": {
      "text/html": [
       "<div>\n",
       "<style scoped>\n",
       "    .dataframe tbody tr th:only-of-type {\n",
       "        vertical-align: middle;\n",
       "    }\n",
       "\n",
       "    .dataframe tbody tr th {\n",
       "        vertical-align: top;\n",
       "    }\n",
       "\n",
       "    .dataframe thead th {\n",
       "        text-align: right;\n",
       "    }\n",
       "</style>\n",
       "<table border=\"1\" class=\"dataframe\">\n",
       "  <thead>\n",
       "    <tr style=\"text-align: right;\">\n",
       "      <th></th>\n",
       "      <th>year</th>\n",
       "      <th>month</th>\n",
       "      <th>sales</th>\n",
       "    </tr>\n",
       "  </thead>\n",
       "  <tbody>\n",
       "    <tr>\n",
       "      <th>0</th>\n",
       "      <td>2011</td>\n",
       "      <td>1</td>\n",
       "      <td>113522.0</td>\n",
       "    </tr>\n",
       "    <tr>\n",
       "      <th>1</th>\n",
       "      <td>2011</td>\n",
       "      <td>2</td>\n",
       "      <td>103848.0</td>\n",
       "    </tr>\n",
       "    <tr>\n",
       "      <th>2</th>\n",
       "      <td>2011</td>\n",
       "      <td>3</td>\n",
       "      <td>109272.0</td>\n",
       "    </tr>\n",
       "    <tr>\n",
       "      <th>3</th>\n",
       "      <td>2011</td>\n",
       "      <td>4</td>\n",
       "      <td>106303.0</td>\n",
       "    </tr>\n",
       "    <tr>\n",
       "      <th>4</th>\n",
       "      <td>2011</td>\n",
       "      <td>5</td>\n",
       "      <td>109625.0</td>\n",
       "    </tr>\n",
       "    <tr>\n",
       "      <th>5</th>\n",
       "      <td>2011</td>\n",
       "      <td>6</td>\n",
       "      <td>139571.0</td>\n",
       "    </tr>\n",
       "    <tr>\n",
       "      <th>6</th>\n",
       "      <td>2011</td>\n",
       "      <td>7</td>\n",
       "      <td>127569.0</td>\n",
       "    </tr>\n",
       "    <tr>\n",
       "      <th>7</th>\n",
       "      <td>2011</td>\n",
       "      <td>8</td>\n",
       "      <td>153147.0</td>\n",
       "    </tr>\n",
       "    <tr>\n",
       "      <th>8</th>\n",
       "      <td>2011</td>\n",
       "      <td>9</td>\n",
       "      <td>180252.0</td>\n",
       "    </tr>\n",
       "    <tr>\n",
       "      <th>9</th>\n",
       "      <td>2011</td>\n",
       "      <td>10</td>\n",
       "      <td>147244.0</td>\n",
       "    </tr>\n",
       "    <tr>\n",
       "      <th>10</th>\n",
       "      <td>2011</td>\n",
       "      <td>11</td>\n",
       "      <td>167660.0</td>\n",
       "    </tr>\n",
       "    <tr>\n",
       "      <th>11</th>\n",
       "      <td>2011</td>\n",
       "      <td>12</td>\n",
       "      <td>217043.0</td>\n",
       "    </tr>\n",
       "    <tr>\n",
       "      <th>12</th>\n",
       "      <td>2012</td>\n",
       "      <td>1</td>\n",
       "      <td>132352.0</td>\n",
       "    </tr>\n",
       "    <tr>\n",
       "      <th>13</th>\n",
       "      <td>2012</td>\n",
       "      <td>2</td>\n",
       "      <td>106603.0</td>\n",
       "    </tr>\n",
       "    <tr>\n",
       "      <th>14</th>\n",
       "      <td>2012</td>\n",
       "      <td>3</td>\n",
       "      <td>147380.0</td>\n",
       "    </tr>\n",
       "    <tr>\n",
       "      <th>15</th>\n",
       "      <td>2012</td>\n",
       "      <td>4</td>\n",
       "      <td>141339.0</td>\n",
       "    </tr>\n",
       "    <tr>\n",
       "      <th>16</th>\n",
       "      <td>2012</td>\n",
       "      <td>5</td>\n",
       "      <td>166791.0</td>\n",
       "    </tr>\n",
       "    <tr>\n",
       "      <th>17</th>\n",
       "      <td>2012</td>\n",
       "      <td>6</td>\n",
       "      <td>187830.0</td>\n",
       "    </tr>\n",
       "    <tr>\n",
       "      <th>18</th>\n",
       "      <td>2012</td>\n",
       "      <td>7</td>\n",
       "      <td>138097.0</td>\n",
       "    </tr>\n",
       "    <tr>\n",
       "      <th>19</th>\n",
       "      <td>2012</td>\n",
       "      <td>8</td>\n",
       "      <td>199593.0</td>\n",
       "    </tr>\n",
       "    <tr>\n",
       "      <th>20</th>\n",
       "      <td>2012</td>\n",
       "      <td>9</td>\n",
       "      <td>215490.0</td>\n",
       "    </tr>\n",
       "    <tr>\n",
       "      <th>21</th>\n",
       "      <td>2012</td>\n",
       "      <td>10</td>\n",
       "      <td>190021.0</td>\n",
       "    </tr>\n",
       "    <tr>\n",
       "      <th>22</th>\n",
       "      <td>2012</td>\n",
       "      <td>11</td>\n",
       "      <td>219530.0</td>\n",
       "    </tr>\n",
       "    <tr>\n",
       "      <th>23</th>\n",
       "      <td>2012</td>\n",
       "      <td>12</td>\n",
       "      <td>217370.0</td>\n",
       "    </tr>\n",
       "    <tr>\n",
       "      <th>24</th>\n",
       "      <td>2013</td>\n",
       "      <td>1</td>\n",
       "      <td>151113.0</td>\n",
       "    </tr>\n",
       "    <tr>\n",
       "      <th>25</th>\n",
       "      <td>2013</td>\n",
       "      <td>2</td>\n",
       "      <td>125455.0</td>\n",
       "    </tr>\n",
       "    <tr>\n",
       "      <th>26</th>\n",
       "      <td>2013</td>\n",
       "      <td>3</td>\n",
       "      <td>164617.0</td>\n",
       "    </tr>\n",
       "    <tr>\n",
       "      <th>27</th>\n",
       "      <td>2013</td>\n",
       "      <td>4</td>\n",
       "      <td>171057.0</td>\n",
       "    </tr>\n",
       "    <tr>\n",
       "      <th>28</th>\n",
       "      <td>2013</td>\n",
       "      <td>5</td>\n",
       "      <td>217904.0</td>\n",
       "    </tr>\n",
       "    <tr>\n",
       "      <th>29</th>\n",
       "      <td>2013</td>\n",
       "      <td>6</td>\n",
       "      <td>263002.0</td>\n",
       "    </tr>\n",
       "    <tr>\n",
       "      <th>30</th>\n",
       "      <td>2013</td>\n",
       "      <td>7</td>\n",
       "      <td>179352.0</td>\n",
       "    </tr>\n",
       "    <tr>\n",
       "      <th>31</th>\n",
       "      <td>2013</td>\n",
       "      <td>8</td>\n",
       "      <td>251100.0</td>\n",
       "    </tr>\n",
       "    <tr>\n",
       "      <th>32</th>\n",
       "      <td>2013</td>\n",
       "      <td>9</td>\n",
       "      <td>273007.0</td>\n",
       "    </tr>\n",
       "    <tr>\n",
       "      <th>33</th>\n",
       "      <td>2013</td>\n",
       "      <td>10</td>\n",
       "      <td>215332.0</td>\n",
       "    </tr>\n",
       "    <tr>\n",
       "      <th>34</th>\n",
       "      <td>2013</td>\n",
       "      <td>11</td>\n",
       "      <td>290873.0</td>\n",
       "    </tr>\n",
       "    <tr>\n",
       "      <th>35</th>\n",
       "      <td>2013</td>\n",
       "      <td>12</td>\n",
       "      <td>273794.0</td>\n",
       "    </tr>\n",
       "    <tr>\n",
       "      <th>36</th>\n",
       "      <td>2014</td>\n",
       "      <td>1</td>\n",
       "      <td>187619.0</td>\n",
       "    </tr>\n",
       "    <tr>\n",
       "      <th>37</th>\n",
       "      <td>2014</td>\n",
       "      <td>2</td>\n",
       "      <td>199690.0</td>\n",
       "    </tr>\n",
       "    <tr>\n",
       "      <th>38</th>\n",
       "      <td>2014</td>\n",
       "      <td>3</td>\n",
       "      <td>250335.0</td>\n",
       "    </tr>\n",
       "    <tr>\n",
       "      <th>39</th>\n",
       "      <td>2014</td>\n",
       "      <td>4</td>\n",
       "      <td>230989.0</td>\n",
       "    </tr>\n",
       "    <tr>\n",
       "      <th>40</th>\n",
       "      <td>2014</td>\n",
       "      <td>5</td>\n",
       "      <td>235600.0</td>\n",
       "    </tr>\n",
       "    <tr>\n",
       "      <th>41</th>\n",
       "      <td>2014</td>\n",
       "      <td>6</td>\n",
       "      <td>277406.0</td>\n",
       "    </tr>\n",
       "    <tr>\n",
       "      <th>42</th>\n",
       "      <td>2014</td>\n",
       "      <td>7</td>\n",
       "      <td>213501.0</td>\n",
       "    </tr>\n",
       "    <tr>\n",
       "      <th>43</th>\n",
       "      <td>2014</td>\n",
       "      <td>8</td>\n",
       "      <td>318572.0</td>\n",
       "    </tr>\n",
       "    <tr>\n",
       "      <th>44</th>\n",
       "      <td>2014</td>\n",
       "      <td>9</td>\n",
       "      <td>296436.0</td>\n",
       "    </tr>\n",
       "    <tr>\n",
       "      <th>45</th>\n",
       "      <td>2014</td>\n",
       "      <td>10</td>\n",
       "      <td>308832.0</td>\n",
       "    </tr>\n",
       "    <tr>\n",
       "      <th>46</th>\n",
       "      <td>2014</td>\n",
       "      <td>11</td>\n",
       "      <td>378996.0</td>\n",
       "    </tr>\n",
       "    <tr>\n",
       "      <th>47</th>\n",
       "      <td>2014</td>\n",
       "      <td>12</td>\n",
       "      <td>318196.0</td>\n",
       "    </tr>\n",
       "  </tbody>\n",
       "</table>\n",
       "</div>"
      ],
      "text/plain": [
       "    year  month     sales\n",
       "0   2011      1  113522.0\n",
       "1   2011      2  103848.0\n",
       "2   2011      3  109272.0\n",
       "3   2011      4  106303.0\n",
       "4   2011      5  109625.0\n",
       "5   2011      6  139571.0\n",
       "6   2011      7  127569.0\n",
       "7   2011      8  153147.0\n",
       "8   2011      9  180252.0\n",
       "9   2011     10  147244.0\n",
       "10  2011     11  167660.0\n",
       "11  2011     12  217043.0\n",
       "12  2012      1  132352.0\n",
       "13  2012      2  106603.0\n",
       "14  2012      3  147380.0\n",
       "15  2012      4  141339.0\n",
       "16  2012      5  166791.0\n",
       "17  2012      6  187830.0\n",
       "18  2012      7  138097.0\n",
       "19  2012      8  199593.0\n",
       "20  2012      9  215490.0\n",
       "21  2012     10  190021.0\n",
       "22  2012     11  219530.0\n",
       "23  2012     12  217370.0\n",
       "24  2013      1  151113.0\n",
       "25  2013      2  125455.0\n",
       "26  2013      3  164617.0\n",
       "27  2013      4  171057.0\n",
       "28  2013      5  217904.0\n",
       "29  2013      6  263002.0\n",
       "30  2013      7  179352.0\n",
       "31  2013      8  251100.0\n",
       "32  2013      9  273007.0\n",
       "33  2013     10  215332.0\n",
       "34  2013     11  290873.0\n",
       "35  2013     12  273794.0\n",
       "36  2014      1  187619.0\n",
       "37  2014      2  199690.0\n",
       "38  2014      3  250335.0\n",
       "39  2014      4  230989.0\n",
       "40  2014      5  235600.0\n",
       "41  2014      6  277406.0\n",
       "42  2014      7  213501.0\n",
       "43  2014      8  318572.0\n",
       "44  2014      9  296436.0\n",
       "45  2014     10  308832.0\n",
       "46  2014     11  378996.0\n",
       "47  2014     12  318196.0"
      ]
     },
     "execution_count": 80,
     "metadata": {},
     "output_type": "execute_result"
    }
   ],
   "source": [
    "monthly_sales"
   ]
  },
  {
   "cell_type": "code",
   "execution_count": 81,
   "id": "3a372584-4610-4df0-bffb-2d714aaebba3",
   "metadata": {
    "tags": []
   },
   "outputs": [
    {
     "data": {
      "text/html": [
       "<div>\n",
       "<style scoped>\n",
       "    .dataframe tbody tr th:only-of-type {\n",
       "        vertical-align: middle;\n",
       "    }\n",
       "\n",
       "    .dataframe tbody tr th {\n",
       "        vertical-align: top;\n",
       "    }\n",
       "\n",
       "    .dataframe thead th {\n",
       "        text-align: right;\n",
       "    }\n",
       "</style>\n",
       "<table border=\"1\" class=\"dataframe\">\n",
       "  <thead>\n",
       "    <tr style=\"text-align: right;\">\n",
       "      <th></th>\n",
       "      <th>year</th>\n",
       "      <th>sales</th>\n",
       "    </tr>\n",
       "  </thead>\n",
       "  <tbody>\n",
       "    <tr>\n",
       "      <th>0</th>\n",
       "      <td>2011</td>\n",
       "      <td>1675056.0</td>\n",
       "    </tr>\n",
       "    <tr>\n",
       "      <th>1</th>\n",
       "      <td>2012</td>\n",
       "      <td>2062396.0</td>\n",
       "    </tr>\n",
       "    <tr>\n",
       "      <th>2</th>\n",
       "      <td>2013</td>\n",
       "      <td>2576606.0</td>\n",
       "    </tr>\n",
       "    <tr>\n",
       "      <th>3</th>\n",
       "      <td>2014</td>\n",
       "      <td>3216172.0</td>\n",
       "    </tr>\n",
       "  </tbody>\n",
       "</table>\n",
       "</div>"
      ],
      "text/plain": [
       "   year      sales\n",
       "0  2011  1675056.0\n",
       "1  2012  2062396.0\n",
       "2  2013  2576606.0\n",
       "3  2014  3216172.0"
      ]
     },
     "execution_count": 81,
     "metadata": {},
     "output_type": "execute_result"
    }
   ],
   "source": [
    "yearly_sales"
   ]
  },
  {
   "cell_type": "code",
   "execution_count": 82,
   "id": "9b4f4b37-e1ef-4161-a0f7-d955d43bf950",
   "metadata": {
    "tags": []
   },
   "outputs": [
    {
     "data": {
      "text/html": [
       "<div>\n",
       "<style scoped>\n",
       "    .dataframe tbody tr th:only-of-type {\n",
       "        vertical-align: middle;\n",
       "    }\n",
       "\n",
       "    .dataframe tbody tr th {\n",
       "        vertical-align: top;\n",
       "    }\n",
       "\n",
       "    .dataframe thead th {\n",
       "        text-align: right;\n",
       "    }\n",
       "</style>\n",
       "<table border=\"1\" class=\"dataframe\">\n",
       "  <thead>\n",
       "    <tr style=\"text-align: right;\">\n",
       "      <th></th>\n",
       "      <th>year</th>\n",
       "      <th>profit</th>\n",
       "      <th>percentage</th>\n",
       "      <th>growth_percentage</th>\n",
       "    </tr>\n",
       "  </thead>\n",
       "  <tbody>\n",
       "    <tr>\n",
       "      <th>0</th>\n",
       "      <td>2011</td>\n",
       "      <td>200571.87772</td>\n",
       "      <td>16.652198</td>\n",
       "      <td>0.000000</td>\n",
       "    </tr>\n",
       "    <tr>\n",
       "      <th>1</th>\n",
       "      <td>2012</td>\n",
       "      <td>268752.45642</td>\n",
       "      <td>22.312795</td>\n",
       "      <td>5.660597</td>\n",
       "    </tr>\n",
       "    <tr>\n",
       "      <th>2</th>\n",
       "      <td>2013</td>\n",
       "      <td>327552.07598</td>\n",
       "      <td>27.194551</td>\n",
       "      <td>4.881756</td>\n",
       "    </tr>\n",
       "    <tr>\n",
       "      <th>3</th>\n",
       "      <td>2014</td>\n",
       "      <td>407600.46634</td>\n",
       "      <td>33.840456</td>\n",
       "      <td>6.645905</td>\n",
       "    </tr>\n",
       "  </tbody>\n",
       "</table>\n",
       "</div>"
      ],
      "text/plain": [
       "   year        profit  percentage  growth_percentage\n",
       "0  2011  200571.87772   16.652198           0.000000\n",
       "1  2012  268752.45642   22.312795           5.660597\n",
       "2  2013  327552.07598   27.194551           4.881756\n",
       "3  2014  407600.46634   33.840456           6.645905"
      ]
     },
     "execution_count": 82,
     "metadata": {},
     "output_type": "execute_result"
    }
   ],
   "source": [
    "yearly_profit"
   ]
  },
  {
   "cell_type": "code",
   "execution_count": 83,
   "id": "fe306d2a-9061-4da3-a709-8df358dd3f4c",
   "metadata": {
    "tags": []
   },
   "outputs": [
    {
     "name": "stdout",
     "output_type": "stream",
     "text": [
      "    year  month       profit\n",
      "0   2011      1  14400.54972\n",
      "1   2011      2  13191.69286\n",
      "2   2011      3  13918.56012\n",
      "3   2011      4  10834.72344\n",
      "4   2011      5  12882.61162\n",
      "5   2011      6  16626.72550\n",
      "6   2011      7  16329.04756\n",
      "7   2011      8  16449.57614\n",
      "8   2011      9  21223.01858\n",
      "9   2011     10  20142.42780\n",
      "10  2011     11  19572.41136\n",
      "11  2011     12  25000.53302\n",
      "12  2012      1  18852.86428\n",
      "13  2012      2  14883.42404\n",
      "14  2012      3  16523.64398\n",
      "15  2012      4  17625.27542\n",
      "16  2012      5  22190.67222\n",
      "17  2012      6  25071.72302\n",
      "18  2012      7  15775.49288\n",
      "19  2012      8  24910.83016\n",
      "20  2012      9  26874.99152\n",
      "21  2012     10  27401.24258\n",
      "22  2012     11  28006.26166\n",
      "23  2012     12  30636.03466\n",
      "24  2013      1  17207.33942\n",
      "25  2013      2  17580.48576\n",
      "26  2013      3  20799.77648\n",
      "27  2013      4  21947.39794\n",
      "28  2013      5  26841.52954\n",
      "29  2013      6  35668.62020\n",
      "30  2013      7  23120.72964\n",
      "31  2013      8  31342.22628\n",
      "32  2013      9  30906.95514\n",
      "33  2013     10  27283.09050\n",
      "34  2013     11  42997.98858\n",
      "35  2013     12  31855.93650\n",
      "36  2014      1  24821.63200\n",
      "37  2014      2  23319.17452\n",
      "38  2014      3  34284.35420\n",
      "39  2014      4  28840.04150\n",
      "40  2014      5  33034.79184\n",
      "41  2014      6  35027.42998\n",
      "42  2014      7  24916.97086\n",
      "43  2014      8  37458.99806\n",
      "44  2014      9  40244.28058\n",
      "45  2014     10  40517.97910\n",
      "46  2014     11  47210.51470\n",
      "47  2014     12  37924.29900\n"
     ]
    }
   ],
   "source": [
    "df['order_date'] = df['order_date'].astype('datetime64[ns]')\n",
    "df['ship_date'] = df['ship_date'].astype('datetime64[ns]')\n",
    "df['year'] = df['order_date'].dt.year \n",
    "df['month'] = df['order_date'].dt.month\n",
    "monthly_profit = df.groupby(['year', 'month'])['profit'].sum().reset_index()\n",
    "print(monthly_profit)"
   ]
  },
  {
   "cell_type": "code",
   "execution_count": 86,
   "id": "52607948-0c8b-4316-8cdb-eee79c831262",
   "metadata": {
    "tags": []
   },
   "outputs": [
    {
     "data": {
      "image/png": "[encoded data removed]",
      "text/plain": [
       "<Figure size 800x600 with 1 Axes>"
      ]
     },
     "metadata": {},
     "output_type": "display_data"
    }
   ],
   "source": [
    "plt.figure(figsize=(8, 6))\n",
    "sns.scatterplot(x=yearly_sales['sales'], y=yearly_profit['profit'])\n",
    "plt.title('Scatterplot Lợi nhuận và Doanh số bán hàng theo năm')\n",
    "plt.xlabel('yearly_sales')\n",
    "plt.ylabel('yearly_profit')\n",
    "plt.show()"
   ]
  },
  {
   "cell_type": "code",
   "execution_count": 87,
   "id": "eac05105-a0a1-438a-a89c-4d6f3ed37ecb",
   "metadata": {
    "tags": []
   },
   "outputs": [
    {
     "data": {
      "image/png": "[encoded data removed]",
      "text/plain": [
       "<Figure size 800x600 with 1 Axes>"
      ]
     },
     "metadata": {},
     "output_type": "display_data"
    }
   ],
   "source": [
    "plt.figure(figsize=(8, 6))\n",
    "sns.scatterplot(x=monthly_sales['sales'], y=monthly_profit['profit'])\n",
    "plt.title('Scatterplot Lợi nhuận và Doanh số bán hàng theo tháng')\n",
    "plt.xlabel('monthly_sales')\n",
    "plt.ylabel('monthly_profit')\n",
    "plt.show()"
   ]
  },
  {
   "cell_type": "code",
   "execution_count": 88,
   "id": "6981357c-4ddd-47d9-ae3a-e1c7f7cbe481",
   "metadata": {
    "tags": []
   },
   "outputs": [
    {
     "name": "stdout",
     "output_type": "stream",
     "text": [
      "Hệ số tương quan Pearson giữa lợi nhuận và doanh số bán hàng: 0.52\n"
     ]
    }
   ],
   "source": [
    "correlation = df['profit'].corr(df['sales'])\n",
    "print(f'Hệ số tương quan Pearson giữa lợi nhuận và doanh số bán hàng: {correlation:.2f}')"
   ]
  },
  {
   "cell_type": "markdown",
   "id": "e295e319-3776-40d6-951f-6f3de9e33188",
   "metadata": {},
   "source": [
    "Kết luận : Dựa vào biểu đồ Scatter của doanh số và lợi nhuận theo tháng, theo năm và hệ số tương quan Pearson thì ta có thể thấy doanh số và lợi nhuận có mỗi quan hệ tương quan dương với nhau. Tức là nếu doanh số tăng thì lợi nhuận cũng tăng và ngược lại. Từ đó cũng đưa ra những chiến lược tối ưu hóa giá cả, chiến dịch tiếp thị, và quản lý tồn kho để đảm bảo lợi nhuận tối đa."
   ]
  },
  {
   "cell_type": "markdown",
   "id": "d3138b2e-3d45-484a-8c2a-aa3ab4132773",
   "metadata": {
    "tags": []
   },
   "source": [
    "# 2. PRODUCT ANALYST  #"
   ]
  },
  {
   "cell_type": "markdown",
   "id": "81a7df01-79e8-44d7-bbba-7fa9acd5c921",
   "metadata": {
    "tags": []
   },
   "source": [
    "### 2.1 Loại sản phẩm nào bán được nhiều nhất? (Về số lượng)  ###"
   ]
  },
  {
   "cell_type": "code",
   "execution_count": 112,
   "id": "63caf3b3-5871-41dc-bb86-a95679082d1e",
   "metadata": {
    "tags": []
   },
   "outputs": [
    {
     "data": {
      "text/html": [
       "<div>\n",
       "<style scoped>\n",
       "    .dataframe tbody tr th:only-of-type {\n",
       "        vertical-align: middle;\n",
       "    }\n",
       "\n",
       "    .dataframe tbody tr th {\n",
       "        vertical-align: top;\n",
       "    }\n",
       "\n",
       "    .dataframe thead th {\n",
       "        text-align: right;\n",
       "    }\n",
       "</style>\n",
       "<table border=\"1\" class=\"dataframe\">\n",
       "  <thead>\n",
       "    <tr style=\"text-align: right;\">\n",
       "      <th></th>\n",
       "      <th>category</th>\n",
       "      <th>quantity</th>\n",
       "      <th>percentage</th>\n",
       "    </tr>\n",
       "  </thead>\n",
       "  <tbody>\n",
       "    <tr>\n",
       "      <th>1</th>\n",
       "      <td>Office Supplies</td>\n",
       "      <td>100864</td>\n",
       "      <td>62.279028</td>\n",
       "    </tr>\n",
       "    <tr>\n",
       "      <th>0</th>\n",
       "      <td>Furniture</td>\n",
       "      <td>30598</td>\n",
       "      <td>18.892902</td>\n",
       "    </tr>\n",
       "    <tr>\n",
       "      <th>2</th>\n",
       "      <td>Technology</td>\n",
       "      <td>30493</td>\n",
       "      <td>18.828070</td>\n",
       "    </tr>\n",
       "  </tbody>\n",
       "</table>\n",
       "</div>"
      ],
      "text/plain": [
       "          category  quantity  percentage\n",
       "1  Office Supplies    100864   62.279028\n",
       "0        Furniture     30598   18.892902\n",
       "2       Technology     30493   18.828070"
      ]
     },
     "execution_count": 112,
     "metadata": {},
     "output_type": "execute_result"
    }
   ],
   "source": [
    "category_sold_quantity = df.groupby('category')['quantity'].sum().reset_index()\n",
    "total_quantity = category_sold_quantity['quantity'].sum()\n",
    "category_sold_quantity['percentage'] = (category_sold_quantity['quantity'] / total_quantity) * 100\n",
    "category_sold_quantity = category_sold_quantity.sort_values(by='percentage', ascending=False)\n",
    "category_sold_quantity"
   ]
  },
  {
   "cell_type": "markdown",
   "id": "feb61d14-d244-49c4-b598-3ac986eb39ee",
   "metadata": {
    "tags": []
   },
   "source": [
    "### 2.2. Loại sản phẩm nào bán được nhiều nhất? (Tính theo doanh thu bán)  ###"
   ]
  },
  {
   "cell_type": "code",
   "execution_count": 114,
   "id": "3439f1be-ce33-4f3a-b7c2-c8ccc085ab97",
   "metadata": {
    "tags": []
   },
   "outputs": [
    {
     "data": {
      "text/html": [
       "<div>\n",
       "<style scoped>\n",
       "    .dataframe tbody tr th:only-of-type {\n",
       "        vertical-align: middle;\n",
       "    }\n",
       "\n",
       "    .dataframe tbody tr th {\n",
       "        vertical-align: top;\n",
       "    }\n",
       "\n",
       "    .dataframe thead th {\n",
       "        text-align: right;\n",
       "    }\n",
       "</style>\n",
       "<table border=\"1\" class=\"dataframe\">\n",
       "  <thead>\n",
       "    <tr style=\"text-align: right;\">\n",
       "      <th></th>\n",
       "      <th>category</th>\n",
       "      <th>sales</th>\n",
       "      <th>percentage</th>\n",
       "    </tr>\n",
       "  </thead>\n",
       "  <tbody>\n",
       "    <tr>\n",
       "      <th>2</th>\n",
       "      <td>Technology</td>\n",
       "      <td>3389177.0</td>\n",
       "      <td>35.562384</td>\n",
       "    </tr>\n",
       "    <tr>\n",
       "      <th>1</th>\n",
       "      <td>Office Supplies</td>\n",
       "      <td>3081593.0</td>\n",
       "      <td>32.334928</td>\n",
       "    </tr>\n",
       "    <tr>\n",
       "      <th>0</th>\n",
       "      <td>Furniture</td>\n",
       "      <td>3059460.0</td>\n",
       "      <td>32.102688</td>\n",
       "    </tr>\n",
       "  </tbody>\n",
       "</table>\n",
       "</div>"
      ],
      "text/plain": [
       "          category      sales  percentage\n",
       "2       Technology  3389177.0   35.562384\n",
       "1  Office Supplies  3081593.0   32.334928\n",
       "0        Furniture  3059460.0   32.102688"
      ]
     },
     "execution_count": 114,
     "metadata": {},
     "output_type": "execute_result"
    }
   ],
   "source": [
    "category_sold_sales = df.groupby('category')['sales'].sum().reset_index()\n",
    "total_sales = category_sold_sales['sales'].sum()\n",
    "category_sold_sales['percentage'] = (category_sold_sales['sales'] / total_sales) * 100\n",
    "category_sold_sales = category_sold_sales.sort_values(by='percentage', ascending=False)\n",
    "category_sold_sales"
   ]
  },
  {
   "cell_type": "markdown",
   "id": "854601ee-9908-4192-a9f1-ba9712deef8d",
   "metadata": {
    "tags": []
   },
   "source": [
    "### 2.3 Xu hướng bán loại sản phẩm qua các năm về doanh thu và số lượng bán ra ###"
   ]
  },
  {
   "cell_type": "code",
   "execution_count": 116,
   "id": "03002bc5-c2ac-4a86-bf8f-07bff4cc9a84",
   "metadata": {
    "tags": []
   },
   "outputs": [
    {
     "data": {
      "text/html": [
       "<div>\n",
       "<style scoped>\n",
       "    .dataframe tbody tr th:only-of-type {\n",
       "        vertical-align: middle;\n",
       "    }\n",
       "\n",
       "    .dataframe tbody tr th {\n",
       "        vertical-align: top;\n",
       "    }\n",
       "\n",
       "    .dataframe thead th {\n",
       "        text-align: right;\n",
       "    }\n",
       "</style>\n",
       "<table border=\"1\" class=\"dataframe\">\n",
       "  <thead>\n",
       "    <tr style=\"text-align: right;\">\n",
       "      <th></th>\n",
       "      <th>category</th>\n",
       "      <th>year</th>\n",
       "      <th>sales</th>\n",
       "    </tr>\n",
       "  </thead>\n",
       "  <tbody>\n",
       "    <tr>\n",
       "      <th>0</th>\n",
       "      <td>Furniture</td>\n",
       "      <td>2011</td>\n",
       "      <td>551730.0</td>\n",
       "    </tr>\n",
       "    <tr>\n",
       "      <th>1</th>\n",
       "      <td>Furniture</td>\n",
       "      <td>2012</td>\n",
       "      <td>651017.0</td>\n",
       "    </tr>\n",
       "    <tr>\n",
       "      <th>2</th>\n",
       "      <td>Furniture</td>\n",
       "      <td>2013</td>\n",
       "      <td>854309.0</td>\n",
       "    </tr>\n",
       "    <tr>\n",
       "      <th>3</th>\n",
       "      <td>Furniture</td>\n",
       "      <td>2014</td>\n",
       "      <td>1002404.0</td>\n",
       "    </tr>\n",
       "    <tr>\n",
       "      <th>4</th>\n",
       "      <td>Office Supplies</td>\n",
       "      <td>2011</td>\n",
       "      <td>545574.0</td>\n",
       "    </tr>\n",
       "    <tr>\n",
       "      <th>5</th>\n",
       "      <td>Office Supplies</td>\n",
       "      <td>2012</td>\n",
       "      <td>657544.0</td>\n",
       "    </tr>\n",
       "    <tr>\n",
       "      <th>6</th>\n",
       "      <td>Office Supplies</td>\n",
       "      <td>2013</td>\n",
       "      <td>831307.0</td>\n",
       "    </tr>\n",
       "    <tr>\n",
       "      <th>7</th>\n",
       "      <td>Office Supplies</td>\n",
       "      <td>2014</td>\n",
       "      <td>1047168.0</td>\n",
       "    </tr>\n",
       "    <tr>\n",
       "      <th>8</th>\n",
       "      <td>Technology</td>\n",
       "      <td>2011</td>\n",
       "      <td>577752.0</td>\n",
       "    </tr>\n",
       "    <tr>\n",
       "      <th>9</th>\n",
       "      <td>Technology</td>\n",
       "      <td>2012</td>\n",
       "      <td>753835.0</td>\n",
       "    </tr>\n",
       "    <tr>\n",
       "      <th>10</th>\n",
       "      <td>Technology</td>\n",
       "      <td>2013</td>\n",
       "      <td>890990.0</td>\n",
       "    </tr>\n",
       "    <tr>\n",
       "      <th>11</th>\n",
       "      <td>Technology</td>\n",
       "      <td>2014</td>\n",
       "      <td>1166600.0</td>\n",
       "    </tr>\n",
       "  </tbody>\n",
       "</table>\n",
       "</div>"
      ],
      "text/plain": [
       "           category  year      sales\n",
       "0         Furniture  2011   551730.0\n",
       "1         Furniture  2012   651017.0\n",
       "2         Furniture  2013   854309.0\n",
       "3         Furniture  2014  1002404.0\n",
       "4   Office Supplies  2011   545574.0\n",
       "5   Office Supplies  2012   657544.0\n",
       "6   Office Supplies  2013   831307.0\n",
       "7   Office Supplies  2014  1047168.0\n",
       "8        Technology  2011   577752.0\n",
       "9        Technology  2012   753835.0\n",
       "10       Technology  2013   890990.0\n",
       "11       Technology  2014  1166600.0"
      ]
     },
     "execution_count": 116,
     "metadata": {},
     "output_type": "execute_result"
    }
   ],
   "source": [
    "df['year'] = df['order_date'].dt.year\n",
    "product_sales = df.groupby(['category', 'year'])['sales'].sum().reset_index()\n",
    "product_sales"
   ]
  },
  {
   "cell_type": "code",
   "execution_count": 117,
   "id": "7dcbb78c-8fdb-40dc-81d8-f94182dddcab",
   "metadata": {
    "tags": []
   },
   "outputs": [
    {
     "data": {
      "text/html": [
       "<div>\n",
       "<style scoped>\n",
       "    .dataframe tbody tr th:only-of-type {\n",
       "        vertical-align: middle;\n",
       "    }\n",
       "\n",
       "    .dataframe tbody tr th {\n",
       "        vertical-align: top;\n",
       "    }\n",
       "\n",
       "    .dataframe thead th {\n",
       "        text-align: right;\n",
       "    }\n",
       "</style>\n",
       "<table border=\"1\" class=\"dataframe\">\n",
       "  <thead>\n",
       "    <tr style=\"text-align: right;\">\n",
       "      <th></th>\n",
       "      <th>category</th>\n",
       "      <th>year</th>\n",
       "      <th>quantity</th>\n",
       "    </tr>\n",
       "  </thead>\n",
       "  <tbody>\n",
       "    <tr>\n",
       "      <th>0</th>\n",
       "      <td>Furniture</td>\n",
       "      <td>2011</td>\n",
       "      <td>5451</td>\n",
       "    </tr>\n",
       "    <tr>\n",
       "      <th>1</th>\n",
       "      <td>Furniture</td>\n",
       "      <td>2012</td>\n",
       "      <td>6487</td>\n",
       "    </tr>\n",
       "    <tr>\n",
       "      <th>2</th>\n",
       "      <td>Furniture</td>\n",
       "      <td>2013</td>\n",
       "      <td>8608</td>\n",
       "    </tr>\n",
       "    <tr>\n",
       "      <th>3</th>\n",
       "      <td>Furniture</td>\n",
       "      <td>2014</td>\n",
       "      <td>10052</td>\n",
       "    </tr>\n",
       "    <tr>\n",
       "      <th>4</th>\n",
       "      <td>Office Supplies</td>\n",
       "      <td>2011</td>\n",
       "      <td>17546</td>\n",
       "    </tr>\n",
       "    <tr>\n",
       "      <th>5</th>\n",
       "      <td>Office Supplies</td>\n",
       "      <td>2012</td>\n",
       "      <td>21638</td>\n",
       "    </tr>\n",
       "    <tr>\n",
       "      <th>6</th>\n",
       "      <td>Office Supplies</td>\n",
       "      <td>2013</td>\n",
       "      <td>27255</td>\n",
       "    </tr>\n",
       "    <tr>\n",
       "      <th>7</th>\n",
       "      <td>Office Supplies</td>\n",
       "      <td>2014</td>\n",
       "      <td>34425</td>\n",
       "    </tr>\n",
       "    <tr>\n",
       "      <th>8</th>\n",
       "      <td>Technology</td>\n",
       "      <td>2011</td>\n",
       "      <td>5356</td>\n",
       "    </tr>\n",
       "    <tr>\n",
       "      <th>9</th>\n",
       "      <td>Technology</td>\n",
       "      <td>2012</td>\n",
       "      <td>6642</td>\n",
       "    </tr>\n",
       "    <tr>\n",
       "      <th>10</th>\n",
       "      <td>Technology</td>\n",
       "      <td>2013</td>\n",
       "      <td>8004</td>\n",
       "    </tr>\n",
       "    <tr>\n",
       "      <th>11</th>\n",
       "      <td>Technology</td>\n",
       "      <td>2014</td>\n",
       "      <td>10491</td>\n",
       "    </tr>\n",
       "  </tbody>\n",
       "</table>\n",
       "</div>"
      ],
      "text/plain": [
       "           category  year  quantity\n",
       "0         Furniture  2011      5451\n",
       "1         Furniture  2012      6487\n",
       "2         Furniture  2013      8608\n",
       "3         Furniture  2014     10052\n",
       "4   Office Supplies  2011     17546\n",
       "5   Office Supplies  2012     21638\n",
       "6   Office Supplies  2013     27255\n",
       "7   Office Supplies  2014     34425\n",
       "8        Technology  2011      5356\n",
       "9        Technology  2012      6642\n",
       "10       Technology  2013      8004\n",
       "11       Technology  2014     10491"
      ]
     },
     "execution_count": 117,
     "metadata": {},
     "output_type": "execute_result"
    }
   ],
   "source": [
    "df['year'] = df['order_date'].dt.year\n",
    "product_qty = df.groupby(['category', 'year'])['quantity'].sum().reset_index()\n",
    "product_qty"
   ]
  },
  {
   "cell_type": "code",
   "execution_count": 122,
   "id": "e7ef041b-ee64-4c60-98b7-c93d631f745a",
   "metadata": {
    "tags": []
   },
   "outputs": [
    {
     "data": {
      "image/png": "[encoded data removed]",
      "text/plain": [
       "<Figure size 640x480 with 1 Axes>"
      ]
     },
     "metadata": {},
     "output_type": "display_data"
    }
   ],
   "source": [
    "sns.lineplot(data=product_qty, x=\"year\", y=\"quantity\", hue=\"category\")\n",
    "\n",
    "for year in [2011, 2012, 2013, 2014]:\n",
    "    data_subset = product_qty[product_qty['year'] == year]\n",
    "    plt.scatter(data_subset['year'], data_subset['quantity'], color='blue', zorder=5)\n",
    "\n",
    "plt.title(\"Số lượng sản phẩm bán theo năm và loại hàng\")\n",
    "plt.xlabel(\"Year\")\n",
    "plt.ylabel(\"Quantity\")\n",
    "plt.legend(title=\"Category\")\n",
    "\n",
    "plt.xticks([2011, 2012, 2013, 2014], [\"2011\", \"2012\", \"2013\", \"2014\"])\n",
    "\n",
    "plt.show()"
   ]
  },
  {
   "cell_type": "markdown",
   "id": "54b475d3-a966-4a19-8565-e4e1ab2eb367",
   "metadata": {},
   "source": [
    "Về số lượng sản phẩm cho thấy rằng Office Supplies có số lượng bán cao nhất qua các năm"
   ]
  },
  {
   "cell_type": "code",
   "execution_count": 129,
   "id": "95efd349-652a-42f7-9a92-3ce67168115f",
   "metadata": {
    "tags": []
   },
   "outputs": [
    {
     "data": {
      "image/png": "[encoded data removed]",
      "text/plain": [
       "<Figure size 640x480 with 1 Axes>"
      ]
     },
     "metadata": {},
     "output_type": "display_data"
    }
   ],
   "source": [
    "sns.lineplot(data=product_sales, x=\"year\", y=\"sales\", hue=\"category\")\n",
    "\n",
    "for year in [2011, 2012, 2013, 2014]:\n",
    "    data_subset = product_sales[product_sales['year'] == year]\n",
    "    plt.scatter(data_subset['year'], data_subset['sales'], color='black', zorder=5)\n",
    "\n",
    "plt.title(\"Doanh thu bán theo năm và loại hàng\")\n",
    "plt.xlabel(\"Year\")\n",
    "plt.ylabel(\"Sales\")\n",
    "plt.legend(title=\"Category\")\n",
    "\n",
    "plt.xticks([2011, 2012, 2013, 2014], [\"2011\", \"2012\", \"2013\", \"2014\"])\n",
    "\n",
    "plt.show()"
   ]
  },
  {
   "cell_type": "markdown",
   "id": "2f2869ce-9044-4419-8f1f-44f820cf51c9",
   "metadata": {},
   "source": [
    "Về doanh thu thì ta lại thấy sản phẩm Technology có doanh thu bán cao hơn"
   ]
  },
  {
   "cell_type": "markdown",
   "id": "cc2e05c1-8a52-45bc-aab0-49c1e122ec31",
   "metadata": {},
   "source": [
    "Tuy số lượng bán Office Supplies cao hơn nhưng về doanh thu thì Technology có doanh thu cao hơn. Nên tập trung chú ý đưa ra chiến lược đẩy mạnh bán sản phẩm Technology và cũng lên kế hoạch khuyến mãi để đẩy mạnh bán các sản phẩm còn lại. Kết quả phân tích cũng cho thấy nên lập kế hoạch ra mắt sản phẩm mới phù hợp trong năm sau."
   ]
  }
 ],
 "metadata": {
  "kernelspec": {
   "display_name": "Python 3 (ipykernel)",
   "language": "python",
   "name": "python3"
  },
  "language_info": {
   "codemirror_mode": {
    "name": "ipython",
    "version": 3
   },
   "file_extension": ".py",
   "mimetype": "text/x-python",
   "name": "python",
   "nbconvert_exporter": "python",
   "pygments_lexer": "ipython3",
   "version": "3.11.4"
  }
 },
 "nbformat": 4,
 "nbformat_minor": 5
}
